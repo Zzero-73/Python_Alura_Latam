{
  "nbformat": 4,
  "nbformat_minor": 0,
  "metadata": {
    "colab": {
      "provenance": [],
      "include_colab_link": true
    },
    "kernelspec": {
      "name": "python3",
      "display_name": "Python 3"
    },
    "language_info": {
      "name": "python"
    }
  },
  "cells": [
    {
      "cell_type": "markdown",
      "metadata": {
        "id": "view-in-github",
        "colab_type": "text"
      },
      "source": [
        "<a href=\"https://colab.research.google.com/github/Zzero-73/Python_Alura_Latam/blob/main/Python_Data_Science.ipynb\" target=\"_parent\"><img src=\"https://colab.research.google.com/assets/colab-badge.svg\" alt=\"Open In Colab\"/></a>"
      ]
    },
    {
      "cell_type": "markdown",
      "source": [
        "# Python para Data Science\n",
        "\n",
        "Notebook para el curso de Python para Data Science publicado en la plataforma de [Alura Latam](https://www.aluracursos.com/)"
      ],
      "metadata": {
        "id": "lQx6Mmv0OJyT"
      }
    },
    {
      "cell_type": "markdown",
      "source": [
        "# Introducción a Python\n",
        "¡Vamos a conocer Python, nuestro ambiente de estudio, y también generaremos nuestro primer código en este lenguaje!"
      ],
      "metadata": {
        "id": "7SiB6JIpYKmY"
      }
    },
    {
      "cell_type": "markdown",
      "source": [
        "## Google Colaboratory\n",
        "\n",
        "Ya aprendimos qué es [Python](https://www.python.org/) y ahora aprenderemos a usar nuestra herramienta de ejecución [Google Colaboratory](https://colab.research.google.com/) para programar en un notebook interactivo.\n",
        "\n",
        "Vamos a probar algunas funciones de este ambiente."
      ],
      "metadata": {
        "id": "Yugfb3fCOYY9"
      }
    },
    {
      "cell_type": "markdown",
      "source": [
        " **`>>> Usa esta celda para mover <<<`**"
      ],
      "metadata": {
        "id": "2iUHQsJasJAk"
      }
    },
    {
      "cell_type": "code",
      "source": [],
      "metadata": {
        "id": "o7jrX_iKhdkU"
      },
      "execution_count": null,
      "outputs": []
    },
    {
      "cell_type": "markdown",
      "source": [
        "## ¡Hola mundo!\n",
        "\n",
        "Vamos a conocer un poco más de cerca nuestro notebook. Para ello ejecutaremos nuestro primer comando en Python: [`print()`](https://docs.python.org/3/library/functions.html#print)"
      ],
      "metadata": {
        "id": "aLSFP2V7XTfe"
      }
    },
    {
      "cell_type": "code",
      "source": [
        "print('¡Hola mundo, como están todos!')"
      ],
      "metadata": {
        "colab": {
          "base_uri": "https://localhost:8080/"
        },
        "id": "ssay2Zn4exhI",
        "outputId": "c809cd64-7480-4bfd-9bc4-87ffbec02072"
      },
      "execution_count": null,
      "outputs": [
        {
          "output_type": "stream",
          "name": "stdout",
          "text": [
            "¡Hola mundo, como están todos!\n"
          ]
        }
      ]
    },
    {
      "cell_type": "code",
      "source": [
        "15"
      ],
      "metadata": {
        "colab": {
          "base_uri": "https://localhost:8080/"
        },
        "id": "T1qc2bSsi1Mj",
        "outputId": "e8f82f80-9f6c-4b12-a568-65426bb81e3c"
      },
      "execution_count": null,
      "outputs": [
        {
          "output_type": "execute_result",
          "data": {
            "text/plain": [
              "15"
            ]
          },
          "metadata": {},
          "execution_count": 2
        }
      ]
    },
    {
      "cell_type": "code",
      "source": [
        "print('Mi nombre es Joel y tengo 36 años y me encanta la ciencia de datos.')"
      ],
      "metadata": {
        "colab": {
          "base_uri": "https://localhost:8080/"
        },
        "id": "qxUFEBNOi-KZ",
        "outputId": "3a50c268-b965-4cc7-e4e0-4f0495936fd7"
      },
      "execution_count": null,
      "outputs": [
        {
          "output_type": "stream",
          "name": "stdout",
          "text": [
            "Mi nombre es Joel y tengo 36 años y me encanta la ciencia de datos.\n"
          ]
        }
      ]
    },
    {
      "cell_type": "markdown",
      "source": [
        "# Manipulando los datos\n",
        "\n",
        "Vamos a aprender sobre las variables en Python, cómo declararlas y utilizarlas además de conocer otros comandos de este lenguaje. :D"
      ],
      "metadata": {
        "id": "iP8uWQmFYFRs"
      }
    },
    {
      "cell_type": "markdown",
      "source": [
        "## Variables\n",
        "\n",
        "En Data Science trabajamos con varios tipos de datos e informaciones, entonces es esencial saber cómo trabajar con las variables."
      ],
      "metadata": {
        "id": "sLNVmnTbag1Z"
      }
    },
    {
      "cell_type": "markdown",
      "source": [
        "Las variables en Python se crean cuando atribuimos un valor a ella.\n",
        "\n",
        "Para esto, colocamos el nombre de la variable, el signo de igual (`=`) y el valor que queremos atribuirle."
      ],
      "metadata": {
        "id": "lsCY0wahAbf6"
      }
    },
    {
      "cell_type": "code",
      "source": [
        "id(5)"
      ],
      "metadata": {
        "id": "vsHh5buZADND",
        "colab": {
          "base_uri": "https://localhost:8080/"
        },
        "outputId": "72056fcf-37a4-4942-b776-8e4d901d5ab1"
      },
      "execution_count": null,
      "outputs": [
        {
          "output_type": "execute_result",
          "data": {
            "text/plain": [
              "11654504"
            ]
          },
          "metadata": {},
          "execution_count": 5
        }
      ]
    },
    {
      "cell_type": "code",
      "source": [
        "edad=5"
      ],
      "metadata": {
        "id": "sivPtqSjADQV"
      },
      "execution_count": null,
      "outputs": []
    },
    {
      "cell_type": "code",
      "source": [
        "id(edad)"
      ],
      "metadata": {
        "id": "JC8jO47wADlm",
        "colab": {
          "base_uri": "https://localhost:8080/"
        },
        "outputId": "9c6ad979-8042-4ed8-a338-dfc8052ab9f4"
      },
      "execution_count": null,
      "outputs": [
        {
          "output_type": "execute_result",
          "data": {
            "text/plain": [
              "11654504"
            ]
          },
          "metadata": {},
          "execution_count": 8
        }
      ]
    },
    {
      "cell_type": "code",
      "source": [
        "id(5)"
      ],
      "metadata": {
        "colab": {
          "base_uri": "https://localhost:8080/"
        },
        "id": "McD7CM59WBOK",
        "outputId": "47e77c5b-560a-48e7-90ff-dd4aae9a2c33"
      },
      "execution_count": null,
      "outputs": [
        {
          "output_type": "execute_result",
          "data": {
            "text/plain": [
              "11654504"
            ]
          },
          "metadata": {},
          "execution_count": 9
        }
      ]
    },
    {
      "cell_type": "code",
      "source": [
        "print(id(edad))\n",
        "print(id(5))"
      ],
      "metadata": {
        "colab": {
          "base_uri": "https://localhost:8080/"
        },
        "id": "5YDJcpb8WC5y",
        "outputId": "d6629226-8276-4847-a044-00d512b7470c"
      },
      "execution_count": null,
      "outputs": [
        {
          "output_type": "stream",
          "name": "stdout",
          "text": [
            "11654504\n",
            "11654504\n"
          ]
        }
      ]
    },
    {
      "cell_type": "code",
      "source": [
        "numerocinco=5"
      ],
      "metadata": {
        "id": "S4aLwzWhWVqY"
      },
      "execution_count": null,
      "outputs": []
    },
    {
      "cell_type": "code",
      "source": [
        "print(id(numerocinco))"
      ],
      "metadata": {
        "colab": {
          "base_uri": "https://localhost:8080/"
        },
        "id": "y4IeqLWqWbEA",
        "outputId": "f5fcee39-59aa-47e4-ecc7-48c3ef24f6f2"
      },
      "execution_count": null,
      "outputs": [
        {
          "output_type": "stream",
          "name": "stdout",
          "text": [
            "11654504\n"
          ]
        }
      ]
    },
    {
      "cell_type": "markdown",
      "source": [
        "Existen algunos tipos de nomes que **no** podemos definir para las variables:\n",
        "\n",
        "- **Nombres que comiencen con números**\n",
        "  - Ejemplos: `10_notas`, `2_nombre_casa`, etc.\n",
        "- **Palabras separadas por espacio**\n",
        "  - Ejemplos: `Nombre escuela`, `notas estudiantes`, etc.\n",
        "- **Nombres de funciones de Python**\n",
        "  - Ejemplos: `print`, `type`, etc."
      ],
      "metadata": {
        "id": "om2N0jHKAzwL"
      }
    },
    {
      "cell_type": "markdown",
      "source": [
        "> Las letras mayúsculas y minúsculas generarán diferentes variables. La variable `edad` es diferente de `Edad` que a su vez es diferente de `EDAD`:\n",
        "``` Python\n",
        "edad = 1\n",
        "Edad = 2\n",
        "EDAD = 3\n",
        "_edad = 4\n",
        "_edad_ = 5\n",
        "print(edad, Edad, EDAD, _edad, _edad_)\n",
        "1 2 3 4 5\n",
        "```"
      ],
      "metadata": {
        "id": "A19vY2GVMujB"
      }
    },
    {
      "cell_type": "markdown",
      "source": [
        "## Tipos de variables\n",
        "\n",
        "Cada variable contiene una clase específica con respecto al tipo de objeto al cual esta hace referencia. Estas clases serán diferentes de acuerdo con el tipo de dato que le sea atribuido a una variable.\n",
        "\n",
        "Para conocer la clase de cada elemento usamos la función [`type()`](https://docs.python.org/3/library/functions.html#type)"
      ],
      "metadata": {
        "id": "UqhzuBhBHsps"
      }
    },
    {
      "cell_type": "code",
      "source": [
        "#esto es un comentario"
      ],
      "metadata": {
        "id": "J5a9t73A_-PX"
      },
      "execution_count": null,
      "outputs": []
    },
    {
      "cell_type": "code",
      "source": [
        "from IPython.display import Markdown, display\n",
        "display(Markdown('**Este texto está en negrita**'))"
      ],
      "metadata": {
        "id": "xkrPMkeY_-cP",
        "colab": {
          "base_uri": "https://localhost:8080/",
          "height": 46
        },
        "outputId": "1a54efdf-39f6-4df3-8898-fcea2264ebe1"
      },
      "execution_count": null,
      "outputs": [
        {
          "output_type": "display_data",
          "data": {
            "text/plain": [
              "<IPython.core.display.Markdown object>"
            ],
            "text/markdown": "**Este texto está en negrita**"
          },
          "metadata": {}
        }
      ]
    },
    {
      "cell_type": "code",
      "source": [
        "from IPython.display import Markdown, display\n",
        "display(Markdown('***Este texto está en negrita y cursiva***'))"
      ],
      "metadata": {
        "colab": {
          "base_uri": "https://localhost:8080/",
          "height": 46
        },
        "id": "RrpduLayuEAu",
        "outputId": "a1fa263e-df34-4ad0-c646-c128fddc0ef2"
      },
      "execution_count": null,
      "outputs": [
        {
          "output_type": "display_data",
          "data": {
            "text/plain": [
              "<IPython.core.display.Markdown object>"
            ],
            "text/markdown": "***Este texto está en negrita y cursiva***"
          },
          "metadata": {}
        }
      ]
    },
    {
      "cell_type": "code",
      "source": [
        "edad=5\n",
        "type(edad)\n",
        "print(type(edad))"
      ],
      "metadata": {
        "colab": {
          "base_uri": "https://localhost:8080/"
        },
        "id": "2ueqFZrLvO5n",
        "outputId": "2f9c85b6-1ba6-4e72-ca88-723b9ba9f759"
      },
      "execution_count": null,
      "outputs": [
        {
          "output_type": "stream",
          "name": "stdout",
          "text": [
            "<class 'int'>\n"
          ]
        }
      ]
    },
    {
      "cell_type": "code",
      "source": [
        "from IPython.display import Markdown, display\n",
        "display(Markdown('[sorprendeteousha](https://sorprendeteousha.blogspot.com/p/disfruta-de-pelis-y-series.html)'))"
      ],
      "metadata": {
        "colab": {
          "base_uri": "https://localhost:8080/",
          "height": 46
        },
        "id": "Ysgg_b6iujC-",
        "outputId": "b208460e-5763-43f8-bea1-e2d56c8ebf2f"
      },
      "execution_count": null,
      "outputs": [
        {
          "output_type": "display_data",
          "data": {
            "text/plain": [
              "<IPython.core.display.Markdown object>"
            ],
            "text/markdown": "[sorprendeteousha](https://sorprendeteousha.blogspot.com/p/disfruta-de-pelis-y-series.html)"
          },
          "metadata": {}
        }
      ]
    },
    {
      "cell_type": "markdown",
      "source": [
        "En un conjunto de datos escolares podemos tener varios tipos de informaciones. Supongamos que tenemos acceso a la ficha de datos del alumno *Penélope Camacho*, cómo transformamos este nombre en variables de Python?\n",
        "\n",
        "#### Ficha:\n",
        "\n",
        "- Nombre: Penélope Camacho\n",
        "- Edad: 11 años\n",
        "- Promedio del semestre: 9,75\n",
        "- Situación de aprobación: Verdadera (aprobado)"
      ],
      "metadata": {
        "id": "O-FxDumfWu0C"
      }
    },
    {
      "cell_type": "code",
      "source": [
        "Nombre='Joel Israel'\n",
        "type(Nombre)"
      ],
      "metadata": {
        "id": "FabQ7jQf_8Xt",
        "colab": {
          "base_uri": "https://localhost:8080/"
        },
        "outputId": "985f64ef-9ad7-4154-848c-96cd4f06bfb3"
      },
      "execution_count": null,
      "outputs": [
        {
          "output_type": "execute_result",
          "data": {
            "text/plain": [
              "str"
            ]
          },
          "metadata": {},
          "execution_count": 29
        }
      ]
    },
    {
      "cell_type": "code",
      "source": [
        "valor=True\n",
        "type(valor)"
      ],
      "metadata": {
        "id": "IZLQnZUj_8bd",
        "colab": {
          "base_uri": "https://localhost:8080/"
        },
        "outputId": "a9cf6101-f1a6-47f4-8568-c631a333c20b"
      },
      "execution_count": null,
      "outputs": [
        {
          "output_type": "execute_result",
          "data": {
            "text/plain": [
              "bool"
            ]
          },
          "metadata": {},
          "execution_count": 32
        }
      ]
    },
    {
      "cell_type": "code",
      "source": [
        "Nombre='Penélope Camacho'\n",
        "Edad=11\n",
        "Promedio_estudiante= 9.75\n",
        "Aprobado=True\n",
        "\n",
        "print(Nombre,Edad,Promedio_estudiante,Aprobado)\n",
        "print(type(Nombre),type(Edad),type(Promedio_estudiante),type(Aprobado))"
      ],
      "metadata": {
        "colab": {
          "base_uri": "https://localhost:8080/"
        },
        "id": "zAfbIG8AwJgm",
        "outputId": "859bdcfa-3c0b-4581-c292-bb1533ae8f74"
      },
      "execution_count": null,
      "outputs": [
        {
          "output_type": "stream",
          "name": "stdout",
          "text": [
            "Penélope Camacho 11 9.75 True\n",
            "<class 'str'> <class 'int'> <class 'float'> <class 'bool'>\n"
          ]
        }
      ]
    },
    {
      "cell_type": "markdown",
      "source": [
        "## Variables numéricas\n",
        "\n",
        "Entre los tipos de datos numéricos vamos a enfocarnos en los tipos `entero` y `float`."
      ],
      "metadata": {
        "id": "KFq_8Sxf-OG0"
      }
    },
    {
      "cell_type": "markdown",
      "source": [
        "Tenemos una tabla de información sobre los diversos cargos, cantidad de personas empleadas y el salario correspondiente:\n",
        "\n",
        "|Cargo | Cantidad | Salario|\n",
        "|---|---|---|\n",
        "|Vigilante | 5 | 300 |\n",
        "|Docente | 16| 500|\n",
        "|Coordinador| 2 |600|\n",
        "\n",
        "Necesitamos trabajar con estos datos para obtener:\n",
        "\n",
        "- La cantidad total de empleados;\n",
        "- La diferencia entre el salario más bajo y más alto; y\n",
        "- El promedio ponderado de los salarios de los empleados de la escuela."
      ],
      "metadata": {
        "id": "8_HYUbkVYdQY"
      }
    },
    {
      "cell_type": "code",
      "source": [
        "from re import S\n",
        "C_Vigilante=5\n",
        "S_Vigilante=300\n",
        "C_Docente=16\n",
        "S_Docente=500\n",
        "C_Coordinador=2\n",
        "S_Coordinador=600\n",
        "#La cantidad total de empleados\n",
        "Total_Empleados=C_Vigilante+C_Docente+C_Coordinador\n",
        "print(Total_Empleados)"
      ],
      "metadata": {
        "id": "F_X-wxdm_5Ys",
        "colab": {
          "base_uri": "https://localhost:8080/"
        },
        "outputId": "722f8998-ac03-4500-b088-85e1ec228c58"
      },
      "execution_count": null,
      "outputs": [
        {
          "output_type": "stream",
          "name": "stdout",
          "text": [
            "23\n"
          ]
        }
      ]
    },
    {
      "cell_type": "code",
      "source": [
        "#La diferencia entre el salario más bajo y más alto\n",
        "Diferencia_Salario = S_Coordinador-S_Vigilante\n",
        "print(Diferencia_Salario)"
      ],
      "metadata": {
        "id": "gKmBbhII_5b9",
        "colab": {
          "base_uri": "https://localhost:8080/"
        },
        "outputId": "1deee3aa-b383-455e-f605-60ef4d330adf"
      },
      "execution_count": null,
      "outputs": [
        {
          "output_type": "stream",
          "name": "stdout",
          "text": [
            "300\n"
          ]
        }
      ]
    },
    {
      "cell_type": "code",
      "source": [
        "#El promedio ponderado de los salarios de los empleados de la escuela\n",
        "Promedio_Salario=(S_Vigilante*C_Vigilante+S_Docente*C_Docente+S_Coordinador*C_Coordinador)/Total_Empleados\n",
        "print(round(Promedio_Salario,2))"
      ],
      "metadata": {
        "id": "fIugsxNy_53j",
        "colab": {
          "base_uri": "https://localhost:8080/"
        },
        "outputId": "827f50b5-3bdf-4e0b-8962-bb327c3b9e51"
      },
      "execution_count": null,
      "outputs": [
        {
          "output_type": "stream",
          "name": "stdout",
          "text": [
            "465.22\n"
          ]
        }
      ]
    },
    {
      "cell_type": "code",
      "source": [
        "type(Promedio_Salario)"
      ],
      "metadata": {
        "colab": {
          "base_uri": "https://localhost:8080/"
        },
        "id": "7JgBa0pwyXpV",
        "outputId": "79610fca-9f81-4f20-c90f-2f1150f7839e"
      },
      "execution_count": null,
      "outputs": [
        {
          "output_type": "execute_result",
          "data": {
            "text/plain": [
              "float"
            ]
          },
          "metadata": {},
          "execution_count": 50
        }
      ]
    },
    {
      "cell_type": "code",
      "source": [
        "chr(64)"
      ],
      "metadata": {
        "id": "ityEWqvh_2wK",
        "colab": {
          "base_uri": "https://localhost:8080/",
          "height": 35
        },
        "outputId": "e0ee2610-84f8-4894-a4a8-e00ff95afcf5"
      },
      "execution_count": null,
      "outputs": [
        {
          "output_type": "execute_result",
          "data": {
            "text/plain": [
              "'@'"
            ],
            "application/vnd.google.colaboratory.intrinsic+json": {
              "type": "string"
            }
          },
          "metadata": {},
          "execution_count": 1
        }
      ]
    },
    {
      "cell_type": "code",
      "source": [
        "chr(72) + chr(111) +  chr(108) + chr(97)"
      ],
      "metadata": {
        "colab": {
          "base_uri": "https://localhost:8080/",
          "height": 35
        },
        "id": "XznJt4p3cM0u",
        "outputId": "a529f79a-3068-495a-e285-023bc263f6a8"
      },
      "execution_count": null,
      "outputs": [
        {
          "output_type": "execute_result",
          "data": {
            "text/plain": [
              "'Hola'"
            ],
            "application/vnd.google.colaboratory.intrinsic+json": {
              "type": "string"
            }
          },
          "metadata": {},
          "execution_count": 2
        }
      ]
    },
    {
      "cell_type": "code",
      "source": [
        "nombre = \"Kiara\"\n",
        "edad = 20\n",
        "print(f\"El nombre de la alumna es {nombre} y su edad es {edad} años.\")"
      ],
      "metadata": {
        "colab": {
          "base_uri": "https://localhost:8080/"
        },
        "id": "wP1GyukecVju",
        "outputId": "a0719ed6-d1bc-4b91-96fc-e0c5d94b0b18"
      },
      "execution_count": null,
      "outputs": [
        {
          "output_type": "stream",
          "name": "stdout",
          "text": [
            "El nombre de la alumna es Kiara y su edad es 20 años.\n"
          ]
        }
      ]
    },
    {
      "cell_type": "code",
      "source": [
        "nombre_alumno = 'Penélope Camacho'\n",
        "edad_alumno = 11\n",
        "media_alumno = 9.95\n",
        "print('Nombre del alumno es %s, tiene %d años y su media es %f.' %(nombre_alumno, edad_alumno, media_alumno))"
      ],
      "metadata": {
        "colab": {
          "base_uri": "https://localhost:8080/"
        },
        "id": "ivxATFS7cnOV",
        "outputId": "67a82123-3745-41fb-8d0e-9ac0e4a25419"
      },
      "execution_count": null,
      "outputs": [
        {
          "output_type": "stream",
          "name": "stdout",
          "text": [
            "Nombre del alumno es Penélope Camacho, tiene 11 años y su media es 9.950000.\n"
          ]
        }
      ]
    },
    {
      "cell_type": "code",
      "source": [
        "print(\"Estudiar es un esfuerzo constante,\\nEs como cultivar una planta,\\nNecesitamos dedicación y paciencia,\\nPara ver madurar el fruto.\")"
      ],
      "metadata": {
        "colab": {
          "base_uri": "https://localhost:8080/"
        },
        "id": "FyYYgkIyc3zm",
        "outputId": "3dd47efb-3eb5-48db-875e-b8e95fe8dc08"
      },
      "execution_count": null,
      "outputs": [
        {
          "output_type": "stream",
          "name": "stdout",
          "text": [
            "Estudiar es un esfuerzo constante,\n",
            "Es como cultivar una planta,\n",
            "Necesitamos dedicación y paciencia,\n",
            "Para ver madurar el fruto.\n"
          ]
        }
      ]
    },
    {
      "cell_type": "code",
      "source": [
        "print(\"Ruta del archivo: C:\\\\archivos\\\\documento.csv\")"
      ],
      "metadata": {
        "colab": {
          "base_uri": "https://localhost:8080/"
        },
        "id": "FThdy2VJdO2f",
        "outputId": "2be7a692-204e-4119-a075-8937ddfb4b76"
      },
      "execution_count": null,
      "outputs": [
        {
          "output_type": "stream",
          "name": "stdout",
          "text": [
            "Ruta del archivo: C:\\archivos\\documento.csv\n"
          ]
        }
      ]
    },
    {
      "cell_type": "code",
      "source": [
        "print('Mi profesora una vez dijo: \\'Estudiar es la clave del éxito.\\'')"
      ],
      "metadata": {
        "colab": {
          "base_uri": "https://localhost:8080/"
        },
        "id": "o_JbmT99d4uN",
        "outputId": "ad2c3552-5350-4a3b-ce15-bbb8b4404a5e"
      },
      "execution_count": null,
      "outputs": [
        {
          "output_type": "stream",
          "name": "stdout",
          "text": [
            "Mi profesora una vez dijo: 'Estudiar es la clave del éxito.'\n"
          ]
        }
      ]
    },
    {
      "cell_type": "code",
      "source": [
        "#1 - Crea un programa que solicite al usuario que escriba su nombre y luego imprima \"Hola, [nombre].\"\n",
        "Nombre=input('¿Cuál es tu nombre? ')\n",
        "print('Hola',Nombre)"
      ],
      "metadata": {
        "colab": {
          "base_uri": "https://localhost:8080/"
        },
        "id": "IOuMSqtjeBH3",
        "outputId": "c4c4a355-8a98-4872-f495-7515915cb36b"
      },
      "execution_count": null,
      "outputs": [
        {
          "output_type": "stream",
          "name": "stdout",
          "text": [
            "¿Cuál es tu nombre? Israel\n",
            "Hola Israel\n"
          ]
        }
      ]
    },
    {
      "cell_type": "code",
      "source": [
        "#2 - Crea un programa que solicite al usuario que escriba su nombre y edad, y luego imprima \"Hola, [nombre], tienes [edad] años.\"\n",
        "Nombre=input('¿Cuál es tu nombre? ')\n",
        "Edad=input('¿Cuál es tu edad? ')\n",
        "print('Hola',Nombre,'tienes',Edad,'años.')"
      ],
      "metadata": {
        "colab": {
          "base_uri": "https://localhost:8080/"
        },
        "id": "1ho2ToSPeHc3",
        "outputId": "4fca894b-134d-4170-d41d-acefe03d1878"
      },
      "execution_count": null,
      "outputs": [
        {
          "output_type": "stream",
          "name": "stdout",
          "text": [
            "¿Cuál es tu nombre? Israel\n",
            "¿Cuál es tu edad? 35\n",
            "Hola Israel tienes 35 años.\n"
          ]
        }
      ]
    },
    {
      "cell_type": "code",
      "source": [
        "#3 - Crea un programa que solicite al usuario que escriba su nombre, edad y altura en metros, y luego imprima \"Hola, [nombre], tienes [edad] años y mides [altura] metros.\"\n",
        "Nombre=input('¿Cuál es tu nombre? ')\n",
        "Edad=input('¿Cuál es tu edad? ')\n",
        "Altura=input('¿Cuál es tu altura? ')\n",
        "print('Hola',Nombre,'tienes',Edad,'años y mides',Altura,'metros.')"
      ],
      "metadata": {
        "colab": {
          "base_uri": "https://localhost:8080/"
        },
        "id": "nPAdfvQteIKg",
        "outputId": "9a97e4b1-fe77-4e4d-edc0-f6201d6a8fb5"
      },
      "execution_count": null,
      "outputs": [
        {
          "output_type": "stream",
          "name": "stdout",
          "text": [
            "¿Cuál es tu nombre? Israel\n",
            "¿Cuál es tu edad? 35\n",
            "¿Cuál es tu altura? 1.70\n",
            "Hola Israel tienes 35 años y mides 1.70 metros.\n"
          ]
        }
      ]
    },
    {
      "cell_type": "code",
      "source": [
        "#4 - Crea un programa que solicite dos valores numéricos al usuario y luego imprima la suma de ambos valores.\n",
        "Valor_1=input('¿Cuál es el primer valor? ')\n",
        "Valor_2=input('¿Cuál es el segundo valor? ')\n",
        "print('La suma de ambos valores es',int(Valor_1)+int(Valor_2))"
      ],
      "metadata": {
        "colab": {
          "base_uri": "https://localhost:8080/"
        },
        "id": "vgGDYxhOeIbP",
        "outputId": "55e48d2a-30ad-467b-b17c-c492009c6197"
      },
      "execution_count": null,
      "outputs": [
        {
          "output_type": "stream",
          "name": "stdout",
          "text": [
            "¿Cuál es el primer valor? 24\n",
            "¿Cuál es el segundo valor? 26\n",
            "La suma de ambos valores es 50\n"
          ]
        }
      ]
    },
    {
      "cell_type": "code",
      "source": [
        "#5 - Crea un programa que solicite tres valores numéricos al usuario y luego imprima la suma de los tres valores.\n",
        "Valor_1=input('¿Cuál es el primer valor? ')\n",
        "Valor_2=input('¿Cuál es el segundo valor? ')\n",
        "Valor_3=input('¿Cuál es el tercer valor? ')\n",
        "print('La suma de ambos valores es',int(Valor_1)+int(Valor_2)+int(Valor_3))"
      ],
      "metadata": {
        "colab": {
          "base_uri": "https://localhost:8080/"
        },
        "id": "KJpwdZzlcKpH",
        "outputId": "883c538c-4fff-40db-ff22-8c9d87802f0e"
      },
      "execution_count": null,
      "outputs": [
        {
          "output_type": "stream",
          "name": "stdout",
          "text": [
            "¿Cuál es el primer valor? 12\n",
            "¿Cuál es el segundo valor? 45\n",
            "¿Cuál es el tercer valor? 10\n",
            "La suma de ambos valores es 67\n"
          ]
        }
      ]
    },
    {
      "cell_type": "code",
      "source": [
        "#6 - Crea un programa que solicite dos valores numéricos al usuario y luego imprima la resta del primero menos el segundo valor.\n",
        "Valor_1=input('¿Cuál es el primer valor? ')\n",
        "Valor_2=input('¿Cuál es el segundo valor? ')\n",
        "print('La resta de ambos valores es',int(Valor_1)-int(Valor_2))"
      ],
      "metadata": {
        "colab": {
          "base_uri": "https://localhost:8080/"
        },
        "id": "sdjlF97jnXNF",
        "outputId": "4173c948-fe25-4ca3-eb53-4c118539a12f"
      },
      "execution_count": null,
      "outputs": [
        {
          "output_type": "stream",
          "name": "stdout",
          "text": [
            "¿Cuál es el primer valor? 20\n",
            "¿Cuál es el segundo valor? 10\n",
            "La resta de ambos valores es 10\n"
          ]
        }
      ]
    },
    {
      "cell_type": "code",
      "source": [
        "#7 - Crea un programa que solicite dos valores numéricos al usuario y luego imprima la multiplicación de los dos valores.\n",
        "#Declarando variables\n",
        "Valor_1=input('¿Cuál es el primer valor? ')\n",
        "Valor_2=input('¿Cuál es el segundo valor? ')\n",
        "#Condiciones\n",
        "if not Valor_1.strip(): #si el valor esta vacio\n",
        "  print('El primer valor no puede estar vacio')\n",
        "elif not Valor_2.strip(): #si el valor esta vacio\n",
        "    print('El segundo valor no puede estar vacio')\n",
        "else:\n",
        "  print('La multiplicación de ambos valores es',int(Valor_1)*int(Valor_2))\n"
      ],
      "metadata": {
        "colab": {
          "base_uri": "https://localhost:8080/"
        },
        "id": "VsArr-MXvSN9",
        "outputId": "7c940aa2-a4d2-4822-ac99-188fce461464"
      },
      "execution_count": null,
      "outputs": [
        {
          "output_type": "stream",
          "name": "stdout",
          "text": [
            "¿Cuál es el primer valor? 51\n",
            "¿Cuál es el segundo valor? 2\n",
            "La multiplicación de ambos valores es 102\n"
          ]
        }
      ]
    },
    {
      "cell_type": "code",
      "source": [
        "#8 - Crea un programa que solicite dos valores numéricos, un numerador y un denominador, y realice la división entre los dos valores. Asegúrate de que el valor del denominador no sea igual a 0.\n",
        "#Declarando variables\n",
        "Valor_1=input('¿Cuál es el primer valor? ')\n",
        "Valor_2=input('¿Cuál es el segundo valor? ')\n",
        "#Condiciones\n",
        "if not Valor_1.strip(): #si el valor esta vacio\n",
        "  print('El primer valor no puede estar vacio')\n",
        "elif not Valor_2.strip(): #si el valor esta vacio\n",
        "    print('El segundo valor no puede estar vacio')\n",
        "elif Valor_2=='0': #No debe ser igual a 0\n",
        "    print('El segundo valor no puede ser 0')\n",
        "else:\n",
        "  print('La división de ambos valores es',int(Valor_1)/int(Valor_2))"
      ],
      "metadata": {
        "colab": {
          "base_uri": "https://localhost:8080/"
        },
        "id": "WVaoXRvBvefl",
        "outputId": "4cc6696e-aae0-430b-ea7d-f26931346fed"
      },
      "execution_count": null,
      "outputs": [
        {
          "output_type": "stream",
          "name": "stdout",
          "text": [
            "¿Cuál es el primer valor? 15\n",
            "¿Cuál es el segundo valor? 3\n",
            "La división de ambos valores es 5.0\n"
          ]
        }
      ]
    },
    {
      "cell_type": "code",
      "source": [
        "#9 - Crea un programa que solicite dos valores numéricos, un operador y una potencia, y realice la exponenciación entre estos dos valores.\n",
        "#Declarando variables\n",
        "Valor_1=input('¿Cuál es el primer valor? ')\n",
        "Valor_2=input('¿Cuál es el segundo valor? ')\n",
        "#Condiciones\n",
        "if not Valor_1.strip(): #si el valor esta vacio\n",
        "  print('El primer valor no puede estar vacio')\n",
        "elif not Valor_2.strip(): #si el valor esta vacio\n",
        "    print('El segundo valor no puede estar vacio')\n",
        "elif Valor_1=='0': #Base 0 resultado 0\n",
        "    print('El resultado de la base siendo 0 es 0')\n",
        "elif Valor_2=='0': #Exponente 0 resultado 1\n",
        "    print('El resultado con exponente 0 es 1')\n",
        "elif Valor_1 == '0' and Valor_2 == '0':\n",
        "    print('0^0 es matemáticamente indefinido')\n",
        "else:\n",
        "  print('La exponenciación de ambos valores es',int(Valor_1)**int(Valor_2))"
      ],
      "metadata": {
        "colab": {
          "base_uri": "https://localhost:8080/"
        },
        "id": "6yn0mKKyve0v",
        "outputId": "da2aabe9-f775-4321-87b1-f9b237833d0b"
      },
      "execution_count": null,
      "outputs": [
        {
          "output_type": "stream",
          "name": "stdout",
          "text": [
            "¿Cuál es el primer valor? 15\n",
            "¿Cuál es el segundo valor? 7\n",
            "La exponenciación de ambos valores es 170859375\n"
          ]
        }
      ]
    },
    {
      "cell_type": "code",
      "source": [
        "#10 - Crea un programa que solicite dos valores numéricos, un numerador y un denominador, y realice la división entera entre los dos valores. Asegúrate de que el valor del denominador no sea igual a 0.\n",
        "#Declarando variables\n",
        "Valor_1=input('¿Cuál es el primer valor? ')\n",
        "Valor_2=input('¿Cuál es el segundo valor? ')\n",
        "#Condiciones\n",
        "if not Valor_1.strip(): #si el valor esta vacio\n",
        "  print('El primer valor no puede estar vacio')\n",
        "elif not Valor_2.strip(): #si el valor esta vacio\n",
        "    print('El segundo valor no puede estar vacio')\n",
        "elif Valor_1 == '0' or Valor_2 == '0':\n",
        "    print('Por favor ingresar valores divisibles')\n",
        "else:\n",
        "  print('La división entera de los valores es',int(Valor_1)//int(Valor_2))"
      ],
      "metadata": {
        "colab": {
          "base_uri": "https://localhost:8080/"
        },
        "id": "A_NGB1XdvfAX",
        "outputId": "91f603cb-9308-4279-f3ea-52a6693a38a2"
      },
      "execution_count": null,
      "outputs": [
        {
          "output_type": "stream",
          "name": "stdout",
          "text": [
            "¿Cuál es el primer valor? 25\n",
            "¿Cuál es el segundo valor? 3\n",
            "La división entera de los valores es 8\n"
          ]
        }
      ]
    },
    {
      "cell_type": "code",
      "source": [
        "#11 - Crea un programa que solicite dos valores numéricos, un numerador y un denominador, y devuelva el resto de la división entre los dos valores. Asegúrate de que el valor del denominador no sea igual a 0.\n",
        "#Declarando variables\n",
        "Valor_1=input('¿Cuál es el primer valor? ')\n",
        "Valor_2=input('¿Cuál es el segundo valor? ')\n",
        "#Condiciones\n",
        "if not Valor_1.strip(): #si el valor esta vacio\n",
        "  print('El primer valor no puede estar vacio')\n",
        "elif not Valor_2.strip(): #si el valor esta vacio\n",
        "    print('El segundo valor no puede estar vacio')\n",
        "elif Valor_1 == '0' or Valor_2 == '0':\n",
        "    print('Por favor ingresar valores divisibles')\n",
        "else:\n",
        "  print('El residuo de la división entera de los valores es',int(Valor_1)%int(Valor_2))"
      ],
      "metadata": {
        "colab": {
          "base_uri": "https://localhost:8080/"
        },
        "id": "7Y_3S1UcvfIg",
        "outputId": "97219754-990b-4d13-833d-6baae3f943d9"
      },
      "execution_count": null,
      "outputs": [
        {
          "output_type": "stream",
          "name": "stdout",
          "text": [
            "¿Cuál es el primer valor? 25\n",
            "¿Cuál es el segundo valor? 8\n",
            "El residuo de la división entera de los valores es 1\n"
          ]
        }
      ]
    },
    {
      "cell_type": "code",
      "source": [
        "#12 - Crea un código que solicite las 3 notas de un estudiante e imprima el promedio de las notas.\n",
        "#Declarando variables\n",
        "Valor_1=input('¿Cuál es la primera nota? ')\n",
        "Valor_2=input('¿Cuál es la segunda nota? ')\n",
        "Valor_3=input('¿Cuál es la tercera nota? ')\n",
        "#Condiciones\n",
        "if not Valor_1.strip() or not Valor_2.strip() or not Valor_3.strip(): #si el valor esta vacio\n",
        "  print('Debe ingresar todas las notas')\n",
        "else:\n",
        "  Promedio=(int(Valor_1)+int(Valor_2)+int(Valor_3))/3\n",
        "  print('El promedio de las notas es',round(Promedio,2))"
      ],
      "metadata": {
        "colab": {
          "base_uri": "https://localhost:8080/"
        },
        "id": "0VxwVH2uvfP3",
        "outputId": "4ed6f9aa-8be2-4873-ebc4-448b11bfaf6a"
      },
      "execution_count": null,
      "outputs": [
        {
          "output_type": "stream",
          "name": "stdout",
          "text": [
            "¿Cuál es la primera nota? 15\n",
            "¿Cuál es la segunda nota? 17\n",
            "¿Cuál es la tercera nota? 18\n",
            "El promedio de las notas es 16.67\n"
          ]
        }
      ]
    },
    {
      "cell_type": "code",
      "source": [
        "#13 - Crea un código que calcule e imprima el promedio ponderado de los números 5, 12, 20 y 15 con pesos respectivamente iguales a 1, 2, 3 y 4.\n",
        "Promedio_Ponderado=(5*1+12*2+20*3+15*4)/10\n",
        "print('El promedio ponderado es: ',Promedio_Ponderado)\n"
      ],
      "metadata": {
        "colab": {
          "base_uri": "https://localhost:8080/"
        },
        "id": "w-ARnyUGvfp_",
        "outputId": "f4b5da85-8015-4050-9787-7f502c5d976f"
      },
      "execution_count": null,
      "outputs": [
        {
          "output_type": "stream",
          "name": "stdout",
          "text": [
            "El promedio ponderado es:  14.9\n"
          ]
        }
      ]
    },
    {
      "cell_type": "code",
      "source": [
        "#14 - Crea una variable llamada \"frase\" y asígnale una cadena de texto de tu elección. Luego, imprime la frase en pantalla.\n",
        "frase = 'Mi profesora una vez dijo: \"Estudiar es la clave del éxito.\"'\n",
        "print(frase)"
      ],
      "metadata": {
        "id": "8UNE5tY9vS78",
        "colab": {
          "base_uri": "https://localhost:8080/"
        },
        "outputId": "daf09ed1-a336-48d2-9cda-35df1f3175f4"
      },
      "execution_count": null,
      "outputs": [
        {
          "output_type": "stream",
          "name": "stdout",
          "text": [
            "Mi profesora una vez dijo: \"Estudiar es la clave del éxito.\"\n"
          ]
        }
      ]
    },
    {
      "cell_type": "code",
      "source": [
        "#15 - Crea un código que solicite una frase y luego imprima la frase en pantalla.\n",
        "frase = input('¿Cuál es tu frase favorita? ')\n",
        "print(frase)"
      ],
      "metadata": {
        "colab": {
          "base_uri": "https://localhost:8080/"
        },
        "id": "s-yASmvuzTAw",
        "outputId": "46e0827b-71ab-4d5b-d1a6-2626aaac1a6a"
      },
      "execution_count": null,
      "outputs": [
        {
          "output_type": "stream",
          "name": "stdout",
          "text": [
            "¿Cuál es tu frase favorita? Me gusta el Arroz chaufa de pescado\n",
            "Me gusta el Arroz chaufa de pescado\n"
          ]
        }
      ]
    },
    {
      "cell_type": "code",
      "source": [
        "#16 - Crea un código que solicite una frase al usuario y luego imprima la misma frase ingresada pero en mayúsculas.\n",
        "frase = input('¿Cuál es tu frase favorita? ')\n",
        "print(frase.upper())"
      ],
      "metadata": {
        "colab": {
          "base_uri": "https://localhost:8080/"
        },
        "id": "fsKqRX3FzTxg",
        "outputId": "422b02f4-4fa2-48d7-d2a5-6d1f2f4ab143"
      },
      "execution_count": null,
      "outputs": [
        {
          "output_type": "stream",
          "name": "stdout",
          "text": [
            "¿Cuál es tu frase favorita? hasta cuando, hasta cuando\n",
            "HASTA CUANDO, HASTA CUANDO\n"
          ]
        }
      ]
    },
    {
      "cell_type": "code",
      "source": [
        "#17 - Crea un código que solicite una frase al usuario y luego imprima la misma frase ingresada pero en minúsculas.\n",
        "frase = input('¿Cuál es tu frase favorita? ')\n",
        "print(frase.lower())"
      ],
      "metadata": {
        "colab": {
          "base_uri": "https://localhost:8080/"
        },
        "id": "wzVNUuM3znr_",
        "outputId": "98b3b96a-e86f-45bc-dd5b-e764bf7c8a7e"
      },
      "execution_count": null,
      "outputs": [
        {
          "output_type": "stream",
          "name": "stdout",
          "text": [
            "¿Cuál es tu frase favorita? CUANTO MÁS TENGO QUE ESPERAR\n",
            "cuanto más tengo que esperar\n"
          ]
        }
      ]
    },
    {
      "cell_type": "code",
      "source": [
        "#18 - Crea una variable llamada \"frase\" y asígnale una cadena de texto de tu elección. Luego, imprime la frase sin espacios en blanco al principio y al final.\n",
        "frase = ' Mi profesora una vez dijo: No todos llegan a la cima '\n",
        "print(frase.strip())"
      ],
      "metadata": {
        "colab": {
          "base_uri": "https://localhost:8080/"
        },
        "id": "UrHA35Y9zoDv",
        "outputId": "383387d3-d0a5-4b0a-9564-1ba966e25415"
      },
      "execution_count": null,
      "outputs": [
        {
          "output_type": "stream",
          "name": "stdout",
          "text": [
            "Mi profesora una vez dijo: No todos llegan a la cima\n"
          ]
        }
      ]
    },
    {
      "cell_type": "code",
      "source": [
        "#19 - Crea un código que solicite una frase al usuario y luego imprima la misma frase sin espacios en blanco al principio y al final.\n",
        "frase = input('¿Cuál es tu frase favorita? ')\n",
        "print(frase.strip())"
      ],
      "metadata": {
        "colab": {
          "base_uri": "https://localhost:8080/"
        },
        "id": "0PtZNNfhzoR3",
        "outputId": "766b9146-a742-4665-f6ca-b3691d8e16ad"
      },
      "execution_count": null,
      "outputs": [
        {
          "output_type": "stream",
          "name": "stdout",
          "text": [
            "¿Cuál es tu frase favorita?  Nada es gratis en la vida \n",
            "Nada es gratis en la vida\n"
          ]
        }
      ]
    },
    {
      "cell_type": "code",
      "source": [
        "#20 - Crea un código que solicite una frase al usuario y luego imprima la misma frase sin espacios en blanco al principio y al final, además de convertirla a minúsculas.\n",
        "frase = input('¿Cuál es tu frase favorita? ')\n",
        "print(frase.strip().lower())"
      ],
      "metadata": {
        "colab": {
          "base_uri": "https://localhost:8080/"
        },
        "id": "kHea2WkjzofB",
        "outputId": "adc696f9-8288-48e9-90d3-757d62dc66b9"
      },
      "execution_count": null,
      "outputs": [
        {
          "output_type": "stream",
          "name": "stdout",
          "text": [
            "¿Cuál es tu frase favorita?  LA VIDA ES EMOCIONANTE \n",
            "la vida es emocionante\n"
          ]
        }
      ]
    },
    {
      "cell_type": "code",
      "source": [
        "#21 - Crea un código que solicite una frase al usuario y luego imprima la misma frase con todas las vocales \"e\" reemplazadas por la letra \"f\".\n",
        "frase=input('¿Cuál es tu frase favorita?')\n",
        "print('Tu frase es: ',frase.replace('e','f'))"
      ],
      "metadata": {
        "colab": {
          "base_uri": "https://localhost:8080/"
        },
        "id": "dt4uZDE-zUhI",
        "outputId": "12f1b20e-614c-459f-cdd5-1ae2eb8cea17"
      },
      "execution_count": null,
      "outputs": [
        {
          "output_type": "stream",
          "name": "stdout",
          "text": [
            "¿Cuál es tu frase favorita?Mañana sera otro dia y tendre ganas\n",
            "Tu frase es:  Mañana sfra otro dia y tfndrf ganas\n"
          ]
        }
      ]
    },
    {
      "cell_type": "code",
      "source": [
        "#22 - Crea un código que solicite una frase al usuario y luego imprima la misma frase con todas las vocales \"a\" reemplazadas por el carácter \"@\".\n",
        "frase=input('¿Cuál es tu frase favorita?')\n",
        "print('Tu frase es: ',frase.replace('a','@'))"
      ],
      "metadata": {
        "colab": {
          "base_uri": "https://localhost:8080/"
        },
        "id": "y0zbBgpX0i8Q",
        "outputId": "9616d9cd-23bd-43dd-eb60-8b59b30d1055"
      },
      "execution_count": null,
      "outputs": [
        {
          "output_type": "stream",
          "name": "stdout",
          "text": [
            "¿Cuál es tu frase favorita?retroceder nunca rendirse jamás\n",
            "Tu frase es:  retroceder nunc@ rendirse j@más\n"
          ]
        }
      ]
    },
    {
      "cell_type": "code",
      "source": [
        "#23 - Crea un código que solicite una frase al usuario y luego imprima la misma frase con todas las consonantes \"s\" reemplazadas por el carácter \"$\".\n",
        "frase=input('¿Cuál es tu frase favorita?')\n",
        "print('Tu frase es: ',frase.replace('s','$'))"
      ],
      "metadata": {
        "colab": {
          "base_uri": "https://localhost:8080/"
        },
        "id": "vowk1v8k05mP",
        "outputId": "20ffb24c-1d35-4553-ff8b-8b51660bd8c0"
      },
      "execution_count": null,
      "outputs": [
        {
          "output_type": "stream",
          "name": "stdout",
          "text": [
            "¿Cuál es tu frase favorita?Conoce al adversario y sobre todo conócete a ti mismo y serás invencible\n",
            "Tu frase es:  Conoce al adver$ario y $obre todo conócete a ti mi$mo y $erá$ invencible\n"
          ]
        }
      ]
    },
    {
      "cell_type": "markdown",
      "source": [
        "## Strings"
      ],
      "metadata": {
        "id": "yQy7b0ZWoD-P"
      }
    },
    {
      "cell_type": "markdown",
      "source": [
        "Strings hace referencia a un conjunto de caracteres formando un texto.\n",
        "\n",
        "Podemos crear Strings cuando atribuimos un dato a una variable entre comillas sencillas (`'`) o comillas dobles (`\"`)."
      ],
      "metadata": {
        "id": "vlo2-DXusv3s"
      }
    },
    {
      "cell_type": "code",
      "source": [
        "'Hola'"
      ],
      "metadata": {
        "id": "fJ6ZDvlWnJSO",
        "colab": {
          "base_uri": "https://localhost:8080/",
          "height": 35
        },
        "outputId": "893c1273-fc6b-4c9c-fd2a-6b56ec7c7c47"
      },
      "execution_count": null,
      "outputs": [
        {
          "output_type": "execute_result",
          "data": {
            "text/plain": [
              "'Hola'"
            ],
            "application/vnd.google.colaboratory.intrinsic+json": {
              "type": "string"
            }
          },
          "metadata": {},
          "execution_count": 15
        }
      ]
    },
    {
      "cell_type": "markdown",
      "source": [
        "Las variables textuales son objetos que poseen métodos que nos ayudan a formatear strings. Los métodos los podemos ejecutar al definir un objeto de acuerdo con la siguiente estructura:\n",
        "\n",
        "```\n",
        "objeto.metodo()\n",
        "```\n",
        "\n",
        "Existen métodos que no necesitan los `()`, siempre es una buena práctica verificar la documentación para cada caso."
      ],
      "metadata": {
        "id": "2e9UD_CCxqz_"
      }
    },
    {
      "cell_type": "markdown",
      "source": [
        "---\n",
        "**Situación:**\n",
        "\n",
        "Recibimos una variable con el nombre de una profesora de la escuela para añadirla a los registros. Sin embargo, necesitamos darle un tratamiento a este texto antes de insertarlo al sistema."
      ],
      "metadata": {
        "id": "p6aPmMGP4tf9"
      }
    },
    {
      "cell_type": "code",
      "source": [
        "texto = '  Micaela de los Sanyos '\n",
        "id(texto)"
      ],
      "metadata": {
        "id": "icDWtYTjBO0n",
        "colab": {
          "base_uri": "https://localhost:8080/"
        },
        "outputId": "2f01dce4-2d8f-46ce-95f9-87011ab4d7eb"
      },
      "execution_count": null,
      "outputs": [
        {
          "output_type": "execute_result",
          "data": {
            "text/plain": [
              "137908619885296"
            ]
          },
          "metadata": {},
          "execution_count": 59
        }
      ]
    },
    {
      "cell_type": "markdown",
      "source": [
        "El objetivo final es que el nombre aparezca de la siguiente forma:\n",
        "\n",
        "```\n",
        "'MICAELA DE LOS SANTOS'\n",
        "```"
      ],
      "metadata": {
        "id": "Dg2ZXSZOGzjC"
      }
    },
    {
      "cell_type": "markdown",
      "source": [
        "### [`str.upper()` ](https://docs.python.org/3/library/stdtypes.html#str.upper)\n",
        "Convierte una string a mayúsculas."
      ],
      "metadata": {
        "id": "iVTAD8q702eN"
      }
    },
    {
      "cell_type": "code",
      "source": [
        "texto.upper()"
      ],
      "metadata": {
        "id": "wMVshJrY_ZXh",
        "colab": {
          "base_uri": "https://localhost:8080/",
          "height": 35
        },
        "outputId": "a66da3cc-e765-49f4-b89f-32b69c22f493"
      },
      "execution_count": null,
      "outputs": [
        {
          "output_type": "execute_result",
          "data": {
            "text/plain": [
              "'  MICAELA DE LOS SANYOS '"
            ],
            "application/vnd.google.colaboratory.intrinsic+json": {
              "type": "string"
            }
          },
          "metadata": {},
          "execution_count": 60
        }
      ]
    },
    {
      "cell_type": "markdown",
      "source": [
        "### [`str.lower()`](https://docs.python.org/3/library/stdtypes.html#str.lower)\n",
        "Convierte una string a minúsculas."
      ],
      "metadata": {
        "id": "hbDSBtMV1TpG"
      }
    },
    {
      "cell_type": "code",
      "source": [
        "texto.lower()"
      ],
      "metadata": {
        "id": "px3yEeNH_YK4",
        "colab": {
          "base_uri": "https://localhost:8080/",
          "height": 35
        },
        "outputId": "dbd9fa48-3c9e-4eb3-8950-d1acb0647b15"
      },
      "execution_count": null,
      "outputs": [
        {
          "output_type": "execute_result",
          "data": {
            "text/plain": [
              "'  micaela de los sanyos '"
            ],
            "application/vnd.google.colaboratory.intrinsic+json": {
              "type": "string"
            }
          },
          "metadata": {},
          "execution_count": 61
        }
      ]
    },
    {
      "cell_type": "markdown",
      "source": [
        "### [`str.strip()`](https://docs.python.org/3/library/stdtypes.html#str.strip)\n",
        "Elimina los espacios en blanco al inicio y al final de una string."
      ],
      "metadata": {
        "id": "kz47eWM11gii"
      }
    },
    {
      "cell_type": "code",
      "source": [
        "texto.strip()"
      ],
      "metadata": {
        "id": "76dLgNa4_XAe",
        "colab": {
          "base_uri": "https://localhost:8080/",
          "height": 35
        },
        "outputId": "44a0d7c7-d671-4adc-a5f0-e2be551ea893"
      },
      "execution_count": null,
      "outputs": [
        {
          "output_type": "execute_result",
          "data": {
            "text/plain": [
              "'Micaela de los Sanyos'"
            ],
            "application/vnd.google.colaboratory.intrinsic+json": {
              "type": "string"
            }
          },
          "metadata": {},
          "execution_count": 62
        }
      ]
    },
    {
      "cell_type": "markdown",
      "source": [
        "### [`str.replace(antiguo, nuevo)`](https://docs.python.org/3/library/stdtypes.html#str.replace)\n",
        "\n",
        "Sustituye todas las ocurrencias del texto \"antiguo\" en la string por el  \"nuevo\"."
      ],
      "metadata": {
        "id": "m6notiyS1SCV"
      }
    },
    {
      "cell_type": "code",
      "source": [
        "texto.replace('y','t')"
      ],
      "metadata": {
        "id": "PNXAixtE_V6R",
        "colab": {
          "base_uri": "https://localhost:8080/",
          "height": 35
        },
        "outputId": "98bd66c6-181f-4c2c-e480-dd0dce3980b6"
      },
      "execution_count": null,
      "outputs": [
        {
          "output_type": "execute_result",
          "data": {
            "text/plain": [
              "'  Micaela de los Santos '"
            ],
            "application/vnd.google.colaboratory.intrinsic+json": {
              "type": "string"
            }
          },
          "metadata": {},
          "execution_count": 63
        }
      ]
    },
    {
      "cell_type": "code",
      "source": [
        "id(texto)"
      ],
      "metadata": {
        "colab": {
          "base_uri": "https://localhost:8080/"
        },
        "id": "hzo-h_Aa02A-",
        "outputId": "756d4fde-7ec2-4412-ab1f-84b4204bf533"
      },
      "execution_count": null,
      "outputs": [
        {
          "output_type": "execute_result",
          "data": {
            "text/plain": [
              "137908619885296"
            ]
          },
          "metadata": {},
          "execution_count": 64
        }
      ]
    },
    {
      "cell_type": "markdown",
      "source": [
        "### Observaciones\n",
        "\n",
        "1. Los métodos devuelven una **tranformación**, no son ejecutados directamente sobre la variable donde está almacenado el texto.\n",
        "\n",
        "2. Adicionalmente, podemos acumular la ejecución de los métodos."
      ],
      "metadata": {
        "id": "zukvEjhG2Rcn"
      }
    },
    {
      "cell_type": "code",
      "source": [
        "Nuevo_Texto=texto.strip().upper().replace('Y','T')\n",
        "print(Nuevo_Texto)\n",
        "print(id(texto), id(Nuevo_Texto))"
      ],
      "metadata": {
        "id": "JjkBRklr_T5n",
        "colab": {
          "base_uri": "https://localhost:8080/"
        },
        "outputId": "29111a5c-81d6-4933-b146-0ff9658c8140"
      },
      "execution_count": null,
      "outputs": [
        {
          "output_type": "stream",
          "name": "stdout",
          "text": [
            "MICAELA DE LOS SANTOS\n",
            "137908619885296 137908637083184\n"
          ]
        }
      ]
    },
    {
      "cell_type": "markdown",
      "source": [
        "Para que la transformación se pueda ejecutar debemos atribuir la salida de las transformaciones a las variables"
      ],
      "metadata": {
        "id": "1KbwfVut2h6I"
      }
    },
    {
      "cell_type": "code",
      "source": [
        "2**3"
      ],
      "metadata": {
        "id": "ocPP-Jaj_SJI",
        "colab": {
          "base_uri": "https://localhost:8080/"
        },
        "outputId": "6b101f38-fb1a-4636-e53e-e86e640dbc78"
      },
      "execution_count": null,
      "outputs": [
        {
          "output_type": "execute_result",
          "data": {
            "text/plain": [
              "8"
            ]
          },
          "metadata": {},
          "execution_count": 68
        }
      ]
    },
    {
      "cell_type": "code",
      "source": [
        "#Aquí ** significa que el exponente\n",
        "operador = 2\n",
        "potencia = 3\n",
        "operador ** potencia"
      ],
      "metadata": {
        "id": "m1RvLGZZ_SP3",
        "colab": {
          "base_uri": "https://localhost:8080/"
        },
        "outputId": "d8578e44-4bb8-4f0f-8d3c-c54f51c0459b"
      },
      "execution_count": null,
      "outputs": [
        {
          "output_type": "execute_result",
          "data": {
            "text/plain": [
              "8"
            ]
          },
          "metadata": {},
          "execution_count": 69
        }
      ]
    },
    {
      "cell_type": "code",
      "source": [
        "7%3"
      ],
      "metadata": {
        "colab": {
          "base_uri": "https://localhost:8080/"
        },
        "id": "Yi0GGmQ62tmO",
        "outputId": "3519acec-a9e6-4d51-f0d4-f7e30f2fe0e8"
      },
      "execution_count": null,
      "outputs": [
        {
          "output_type": "execute_result",
          "data": {
            "text/plain": [
              "1"
            ]
          },
          "metadata": {},
          "execution_count": 70
        }
      ]
    },
    {
      "cell_type": "code",
      "source": [
        "#en la primera solo me arroja el residuo\n",
        "#en la segunda es la división\n",
        "dividendo = 16\n",
        "divisor = 4\n",
        "print(dividendo % divisor)\n",
        "print(dividendo // divisor)"
      ],
      "metadata": {
        "colab": {
          "base_uri": "https://localhost:8080/"
        },
        "id": "PUCsJ9uW2uwV",
        "outputId": "836112a0-a00e-4898-83c1-81f85a617941"
      },
      "execution_count": null,
      "outputs": [
        {
          "output_type": "stream",
          "name": "stdout",
          "text": [
            "0\n",
            "4\n"
          ]
        }
      ]
    },
    {
      "cell_type": "markdown",
      "source": [
        "**Capturando datos**\n",
        "\n",
        "En algunas aplicaciones necesitamos capturar los valores del usuario de nuestro proyecto, En Python, logramos capturar los datos del usuario a través del comando input()\n",
        "Para configurar la captura debemos atribuir el resultado de esta función a una variabe."
      ],
      "metadata": {
        "id": "Rwg0SXXR4hqd"
      }
    },
    {
      "cell_type": "code",
      "source": [
        "Nombre=input('¿Cuál es tu nombre? ')\n",
        "print('Hola',Nombre)"
      ],
      "metadata": {
        "colab": {
          "base_uri": "https://localhost:8080/"
        },
        "id": "xU2fCAyW4kXW",
        "outputId": "4dff96fc-60b6-4cb3-a813-ba43ada2c69a"
      },
      "execution_count": null,
      "outputs": [
        {
          "output_type": "stream",
          "name": "stdout",
          "text": [
            "¿Cuál es tu nombre? Joel\n",
            "Hola Joel\n"
          ]
        }
      ]
    },
    {
      "cell_type": "code",
      "source": [
        "Edad=input('¿Cuál es tu edad? ')\n",
        "print('Tu edad es',Edad)"
      ],
      "metadata": {
        "colab": {
          "base_uri": "https://localhost:8080/"
        },
        "id": "yx7iWJJr6BQG",
        "outputId": "d9b1c79d-2835-49a6-dfc8-d5b2e2513d8a"
      },
      "execution_count": null,
      "outputs": [
        {
          "output_type": "stream",
          "name": "stdout",
          "text": [
            "¿Cuál es tu edad? 35\n",
            "Tu edad es 35\n"
          ]
        }
      ]
    },
    {
      "cell_type": "code",
      "source": [
        "type(Edad)"
      ],
      "metadata": {
        "colab": {
          "base_uri": "https://localhost:8080/"
        },
        "id": "NHdfcAvz6Lrt",
        "outputId": "75365ac9-8bd6-4088-dd8a-5c7f06c41f51"
      },
      "execution_count": null,
      "outputs": [
        {
          "output_type": "execute_result",
          "data": {
            "text/plain": [
              "str"
            ]
          },
          "metadata": {},
          "execution_count": 83
        }
      ]
    },
    {
      "cell_type": "code",
      "source": [
        "Ano_Admision=input('¿En qué año ingresaste a la escuela? ')\n",
        "print('Tu año de admisión es',Ano_Admision)"
      ],
      "metadata": {
        "colab": {
          "base_uri": "https://localhost:8080/"
        },
        "id": "nN91f9Ii6Qrt",
        "outputId": "1d892a29-2aaa-4bbe-fd16-6ad892aea72f"
      },
      "execution_count": null,
      "outputs": [
        {
          "output_type": "stream",
          "name": "stdout",
          "text": [
            "¿En qué año ingresaste a la escuela? 2023\n",
            "Tu año de admisión es 2023\n"
          ]
        }
      ]
    },
    {
      "cell_type": "code",
      "source": [
        "type(Ano_Admision)"
      ],
      "metadata": {
        "colab": {
          "base_uri": "https://localhost:8080/"
        },
        "id": "8OU_UjGA6YAV",
        "outputId": "1f1568ec-30e7-453c-aa93-63c77fb93b8d"
      },
      "execution_count": null,
      "outputs": [
        {
          "output_type": "execute_result",
          "data": {
            "text/plain": [
              "str"
            ]
          },
          "metadata": {},
          "execution_count": 87
        }
      ]
    },
    {
      "cell_type": "code",
      "source": [
        "Ano_Salida=input('¿En qué año saliste a la escuela? ')\n",
        "print('Tu año de admisión es',Ano_Salida)"
      ],
      "metadata": {
        "colab": {
          "base_uri": "https://localhost:8080/"
        },
        "id": "pe11JIKQ6iP1",
        "outputId": "57559161-5ea2-4fb8-9543-0236fe5f6859"
      },
      "execution_count": null,
      "outputs": [
        {
          "output_type": "stream",
          "name": "stdout",
          "text": [
            "¿En qué año saliste a la escuela? 2025\n",
            "Tu año de admisión es 2025\n"
          ]
        }
      ]
    },
    {
      "cell_type": "code",
      "source": [
        "int(Ano_Salida) - int(Ano_Admision)"
      ],
      "metadata": {
        "colab": {
          "base_uri": "https://localhost:8080/"
        },
        "id": "KHR5B2rG6t8t",
        "outputId": "1b80a8fb-c9bf-479f-8fba-b5daa3da7468"
      },
      "execution_count": null,
      "outputs": [
        {
          "output_type": "execute_result",
          "data": {
            "text/plain": [
              "2"
            ]
          },
          "metadata": {},
          "execution_count": 92
        }
      ]
    },
    {
      "cell_type": "markdown",
      "source": [],
      "metadata": {
        "id": "SFruNkj54fOI"
      }
    },
    {
      "cell_type": "markdown",
      "source": [
        "La salida de este comando siempre será una *string*. Esto quiere decir que aunque capturemos un valor de variable numérica, este será de tipo string.\n",
        "\n",
        "Entonces, será necesario **convertir el resultado cuando no se desea utilizar el valor como tipo string**."
      ],
      "metadata": {
        "id": "7z7hcLCk_aCY"
      }
    },
    {
      "cell_type": "markdown",
      "source": [
        "Existen funciones para la conversión de valores:\n",
        "\n",
        "- Enteros: [`int(dato_para_conversion)`](https://docs.python.org/3/library/functions.html#int)\n",
        "- Coma flotante: [`float(dato_para_conversion)`](https://docs.python.org/3/library/functions.html#float)\n",
        "- String: [`str(dato_para_conversion)`](https://docs.python.org/3/library/functions.html#func-str)\n",
        "- Booleano: [`bool(dato_para_conversion)`](https://docs.python.org/3/library/functions.html#bool)"
      ],
      "metadata": {
        "id": "TOlegATj1Jfp"
      }
    },
    {
      "cell_type": "code",
      "source": [
        "Ano_Nacimiento=input('¿Cuál es tu fecha de nacimiento? ')\n",
        "Edad=2025-int(Ano_Nacimiento)\n",
        "print('Tu edad es',Edad)\n"
      ],
      "metadata": {
        "id": "M2ueeH6l_NMe",
        "colab": {
          "base_uri": "https://localhost:8080/"
        },
        "outputId": "db8d2507-3acc-478c-d8da-0d69bec23476"
      },
      "execution_count": null,
      "outputs": [
        {
          "output_type": "stream",
          "name": "stdout",
          "text": [
            "¿Cuál es tu fecha de nacimiento? 1995\n",
            "Tu edad es 30\n"
          ]
        }
      ]
    },
    {
      "cell_type": "markdown",
      "source": [
        "Trataremos de representar mejor ahora el resultado de la transformación que obtuvimos. Nosotros podemos formatear y presentar nuestro resultado mezclando strings con valores no textuales.\n",
        "\n",
        "Para ello utilizamos la estructura de formatación `f` con strings."
      ],
      "metadata": {
        "id": "yNI2-XTbB3aS"
      }
    },
    {
      "cell_type": "code",
      "source": [
        "Valo=True\n",
        "type(Valo)"
      ],
      "metadata": {
        "id": "keJjA5N9_K5i",
        "colab": {
          "base_uri": "https://localhost:8080/"
        },
        "outputId": "1aad8bec-e168-4659-969b-649c5ab7e16a"
      },
      "execution_count": null,
      "outputs": [
        {
          "output_type": "execute_result",
          "data": {
            "text/plain": [
              "bool"
            ]
          },
          "metadata": {},
          "execution_count": 21
        }
      ]
    },
    {
      "cell_type": "code",
      "source": [],
      "metadata": {
        "id": "_cWRmDiE-m4p"
      },
      "execution_count": null,
      "outputs": []
    },
    {
      "cell_type": "markdown",
      "source": [
        "## `IF` y `ELSE`\n",
        "\n",
        "Los comandos `if` y `else` son dos estructuras condicionales. El comando `if` ejecutará el bloque de comandos en caso de que la condición citada sea  **verdadera**. El comando `else` ejecutará el bloque de comandos en el caso de que la condicional de `if` sea **falsa**."
      ],
      "metadata": {
        "id": "qXZqg9aYEhAh"
      }
    },
    {
      "cell_type": "markdown",
      "source": [
        "El comando `if` es una palabra clave en Python que significa \"si\". Este se emplea para conformar la estructura condicional, que te permite verificar si una determinada condición es verdadera o falsa e, inmediatamente después, ejecute un bloque de código específico dependiendo del resultado de la verificación. La sintaxis para usar el comando `if` es:\n",
        "\n",
        "\n",
        "\n",
        "```\n",
        "if condicion:\n",
        "    # Realiza algo\n",
        "```\n",
        "\n"
      ],
      "metadata": {
        "id": "EIhlqHXd2Gil"
      }
    },
    {
      "cell_type": "code",
      "source": [
        "if 2<7:\n",
        "  print('2 es menor que 7')"
      ],
      "metadata": {
        "id": "S2S6XAFz-czM",
        "colab": {
          "base_uri": "https://localhost:8080/"
        },
        "outputId": "500846c9-8626-4a9c-a582-482acd973b24"
      },
      "execution_count": null,
      "outputs": [
        {
          "output_type": "stream",
          "name": "stdout",
          "text": [
            "2 es menor que 7\n"
          ]
        }
      ]
    },
    {
      "cell_type": "code",
      "source": [
        "Numero=int(input('¿Cuál es tu número favorito? '))\n",
        "if Numero==0:\n",
        "  print('Ingresar un número mayor o igual a 1')\n",
        "else:\n",
        "  print('Tu número favorito es',Numero)"
      ],
      "metadata": {
        "id": "YHkwMMyY-c1r",
        "colab": {
          "base_uri": "https://localhost:8080/"
        },
        "outputId": "44bbc3e4-d1d6-4175-ce5f-4c74600c3f3d"
      },
      "execution_count": null,
      "outputs": [
        {
          "output_type": "stream",
          "name": "stdout",
          "text": [
            "¿Cuál es tu número favorito? 15\n",
            "Tu número favorito es 15\n"
          ]
        }
      ]
    },
    {
      "cell_type": "markdown",
      "source": [
        "Ya el comando `else` en Python se usa en junción con la palabra clave `if` para formar una estructura condicional. la sintaxis para usar el `else` es:\n",
        "\n",
        "```\n",
        "if condicion:\n",
        "  # codigo en caso de que sea verdad\n",
        "else:\n",
        "  # codigo en caso de que sea falso\n",
        "```\n",
        "\n",
        "el comando `else` se ejecuta cuando la condición verificada por el `if` es evaluada como `False`."
      ],
      "metadata": {
        "id": "27RW2v_sIKct"
      }
    },
    {
      "cell_type": "code",
      "source": [
        "#Declarando variable\n",
        "Numero=input('¿Cuál es tu número favorito? ')\n",
        "#Condiciones\n",
        "if Numero.strip()=='':\n",
        "  print('Ingresar un número válido')\n",
        "elif Numero<='0':\n",
        "  print('Ingresar un número válido')\n",
        "else:\n",
        "  print('Tu número favorito es',Numero)"
      ],
      "metadata": {
        "id": "ZTfNJd_f-aOq",
        "colab": {
          "base_uri": "https://localhost:8080/"
        },
        "outputId": "48a57272-07a6-433b-9d5c-111bae4987c5"
      },
      "execution_count": null,
      "outputs": [
        {
          "output_type": "stream",
          "name": "stdout",
          "text": [
            "¿Cuál es tu número favorito? 7\n",
            "Tu número favorito es 7\n"
          ]
        }
      ]
    },
    {
      "cell_type": "code",
      "source": [
        "edad_maria = int(input('Ingrese la edad de María: '))\n",
        "edad_beatriz = int(input('Ingrese la edad de Beatriz: '))\n",
        "\n",
        "if edad_maria > edad_beatriz:\n",
        "  print('María es mayor que Beatriz.')"
      ],
      "metadata": {
        "id": "LPOb5MkV-btq",
        "colab": {
          "base_uri": "https://localhost:8080/"
        },
        "outputId": "ad96d785-d9ae-406b-edb1-3bfdadc56a8c"
      },
      "execution_count": null,
      "outputs": [
        {
          "output_type": "stream",
          "name": "stdout",
          "text": [
            "Ingrese la edad de María: 15\n",
            "Ingrese la edad de Beatriz: 12\n",
            "María es mayor que Beatriz.\n"
          ]
        }
      ]
    },
    {
      "cell_type": "code",
      "source": [
        "empleados_empresa_1 = int(input('Ingrese la cantidad de empleados de la empresa 1: '))\n",
        "empleados_empresa_2 = int(input('Ingrese la cantidad de empleados de la empresa 2: '))\n",
        "\n",
        "if empleados_empresa_1 <= empleados_empresa_2:\n",
        "  print('La empresa 1 tiene una cantidad de empleados menor o igual a la empresa 2.')"
      ],
      "metadata": {
        "colab": {
          "base_uri": "https://localhost:8080/"
        },
        "id": "8obKPPzD4oN2",
        "outputId": "2cfc0e0c-16e7-4809-eaf1-172d1a97f36e"
      },
      "execution_count": null,
      "outputs": [
        {
          "output_type": "stream",
          "name": "stdout",
          "text": [
            "Ingrese la cantidad de empleados de la empresa 1: 200\n",
            "Ingrese la cantidad de empleados de la empresa 2: 1000\n",
            "La empresa 1 tiene una cantidad de empleados menor o igual a la empresa 2.\n"
          ]
        }
      ]
    },
    {
      "cell_type": "code",
      "source": [
        "libro_1 = input('Ingrese el título del 1° libro: ')\n",
        "libro_2 = input('Ingrese el título del 2° libro: ')\n",
        "\n",
        "if libro_1 == libro_2:\n",
        "  print('Los libros tienen el mismo título.')\n",
        "elif libro_1 != libro_2:\n",
        "  print('Los libros tienen títulos diferentes.')"
      ],
      "metadata": {
        "colab": {
          "base_uri": "https://localhost:8080/"
        },
        "id": "76nUxCpv4rd_",
        "outputId": "75918d36-3413-4b83-f351-91c8cd6937f9"
      },
      "execution_count": null,
      "outputs": [
        {
          "output_type": "stream",
          "name": "stdout",
          "text": [
            "Ingrese el título del 1° libro: Memento Mori\n",
            "Ingrese el título del 2° libro: Las palabras que nunca dije\n",
            "Los libros tienen títulos diferentes.\n"
          ]
        }
      ]
    },
    {
      "cell_type": "markdown",
      "source": [
        "---\n",
        "**Situación:**\n",
        "\n",
        "Recibiremos el promedio de la nota de los estudiantes y necesitamos de un algoritmo que ejecute el análisis y determine si el estudiante fue **Aprobado** o **Reprobado**, mostrando un mensaje del resultado. Para ser aprobado, el promedio necesita ser igual o superior a 7.0."
      ],
      "metadata": {
        "id": "BqORg85XX-Nl"
      }
    },
    {
      "cell_type": "code",
      "source": [
        "#Declarando variables\n",
        "Nota_1=input('¿Cuál es tu primera nota? ')\n",
        "Nota_2=input('¿Cuál es tu segunda nota? ')\n",
        "Nota_3=input('¿Cuál es tu tercera nota? ')\n",
        "\n",
        "#Condiciones\n",
        "if not Nota_1.strip() or not Nota_2.strip() or not Nota_3.strip():\n",
        "  print('Debe ingresar todas las notas')\n",
        "elif int(Nota_1)< 0 or int(Nota_2)< 0 or int(Nota_3)< 0:\n",
        "  print('Las notas no pueden ser negativas')\n",
        "else:\n",
        "  Promedio=round((int(Nota_1)+int(Nota_2)+int(Nota_3))/3)\n",
        "  if Promedio >= 7:\n",
        "    print('EL promedio de notas es',Promedio,', Aprobado')\n",
        "  else:\n",
        "    print('EL promedio de notas es',Promedio,', Reprobado')\n",
        "\n"
      ],
      "metadata": {
        "id": "UukCN4AQ-YYW",
        "colab": {
          "base_uri": "https://localhost:8080/"
        },
        "outputId": "6d117046-905f-482d-f956-7a4777a9d8ac"
      },
      "execution_count": null,
      "outputs": [
        {
          "output_type": "stream",
          "name": "stdout",
          "text": [
            "¿Cuál es tu primera nota? 4\n",
            "¿Cuál es tu segunda nota? 7\n",
            "¿Cuál es tu tercera nota? 9\n",
            "EL promedio de notas es 7 , Aprobado\n"
          ]
        }
      ]
    },
    {
      "cell_type": "markdown",
      "source": [
        "Ahora, nuestra institución educativa estableció que las personas que tengan el promedio entre 5.0 y 7.0 pueden participar del curso de **Recuperación** durante las vacaciones para lograr aprobar.\n",
        "\n",
        "Entonces podemos apoyarnos en un conjunto de `if`s para poder estructurar esta nueva condición."
      ],
      "metadata": {
        "id": "bD9O17HB6LUo"
      }
    },
    {
      "cell_type": "code",
      "source": [
        "#Declarando variables\n",
        "Nota_1=input('¿Cuál es su nota? ')\n",
        "\n",
        "#Condiciones\n",
        "if not Nota_1.strip():\n",
        "  print('Debe ingresar la nota')\n",
        "if Nota_1 >= '7':\n",
        "  print('Su nota es',Nota_1,', Aprobado')\n",
        "elif Nota_1 >= '5':\n",
        "  print('Su nota es',Nota_1,', Recuperación')\n",
        "else:\n",
        "  print('Su nota es',Nota_1,', Reprobado')"
      ],
      "metadata": {
        "id": "G9cJ5O9--W52",
        "colab": {
          "base_uri": "https://localhost:8080/"
        },
        "outputId": "ab5362c7-cb03-473e-eff3-c1694662d213"
      },
      "execution_count": null,
      "outputs": [
        {
          "output_type": "stream",
          "name": "stdout",
          "text": [
            "¿Cuál es su nota? 7\n",
            "Su nota es 7 , Aprobado\n"
          ]
        }
      ]
    },
    {
      "cell_type": "markdown",
      "source": [
        "Observa que en casos con 3 situaciones como este necesitamos definir bien nuestras condiciones. Pues, si realizamos una condición con `else` al final, este irá a considerar solamente la condición `if` inmediatamente anterior para generar la salida en caso de que el resultado de su operación lógica sea **falso** dando como resultado, dos o más ejecuciones.\n",
        "\n",
        "Por ejemplo:"
      ],
      "metadata": {
        "id": "D5e2mByjvycO"
      }
    },
    {
      "cell_type": "code",
      "source": [
        "#Declarando variables\n",
        "Nota_1=input('¿Cuál es tu primera nota? ')\n",
        "Nota_2=input('¿Cuál es tu segunda nota? ')\n",
        "Promedio=round((int(Nota_1)+int(Nota_2))/2)\n",
        "#Condiciones\n",
        "if not Nota_1.strip() or not Nota_2.strip():\n",
        "  print('Debe ingresar todas las notas')\n",
        "if Promedio >= 7:\n",
        "  print('EL promedio de notas es',Promedio,', Aprobado')\n",
        "if Promedio >= 5:\n",
        "  print('EL promedio de notas es',Promedio,', Recuperación')\n",
        "else:\n",
        "  print('EL promedio de notas es',Promedio,', Reprobado')"
      ],
      "metadata": {
        "id": "C21JmOuK-VU8",
        "colab": {
          "base_uri": "https://localhost:8080/"
        },
        "outputId": "6b91eb93-9277-4bf1-c1e3-7a69bf1dc060"
      },
      "execution_count": null,
      "outputs": [
        {
          "output_type": "stream",
          "name": "stdout",
          "text": [
            "¿Cuál es tu primera nota? 5\n",
            "¿Cuál es tu segunda nota? 7\n",
            "EL promedio de notas es 6 , Recuperación\n"
          ]
        }
      ]
    },
    {
      "cell_type": "code",
      "source": [],
      "metadata": {
        "id": "bHiVgnPs-Vlv"
      },
      "execution_count": null,
      "outputs": []
    },
    {
      "cell_type": "markdown",
      "source": [
        "## `ELIF`\n",
        "\n",
        "El comando `elif` es una palabra clave en Python que significa \"si no, si\" y lo podemos considerar una *contracción* entre `else` e `if`. Se utiliza en conjunto con la palabra clave `if` para formar una estructura condicional en cadena."
      ],
      "metadata": {
        "id": "04T5g-7h4zWx"
      }
    },
    {
      "cell_type": "markdown",
      "source": [
        "la sintaxis para utilizar el comando `elif` es:\n",
        "\n",
        "```\n",
        "if condicion1:\n",
        "    # Realiza algo\n",
        "elif condicion2:\n",
        "    # Realiza otra cosa\n",
        "elif condicion3:\n",
        "    # Realiza otra cosa\n",
        "else:\n",
        "    # Realiza algo diferente\n",
        "```\n",
        "\n",
        "El comando `elif` permite que puedas verificar varias condiciones en cadena, economizando espacio en tu código. Si la primera condición se evalúa como `False`, el interpretador de Python evaluará la próxima condición con el `elif`. Ello continuará hasta que una condición sea evaluada como `True` o hasta que el `else` sea alcazado. Si ninguna de las condiciones es evaluada como `True`, la ejecución del código del comando `else` será iniciada."
      ],
      "metadata": {
        "id": "rNBHr5mm1Lm6"
      }
    },
    {
      "cell_type": "markdown",
      "source": [
        "Vamos a emplear el mismo caso anterior:"
      ],
      "metadata": {
        "id": "MVoykFbB4bd4"
      }
    },
    {
      "cell_type": "code",
      "source": [
        "#Declarando variables\n",
        "Nota_1=input('¿Cuál es tu primera nota? ')\n",
        "Nota_2=input('¿Cuál es tu segunda nota? ')\n",
        "\n",
        "#Condiciones\n",
        "if not Nota_1.strip() or not Nota_2.strip():\n",
        "  print('Debe ingresar todas las notas')\n",
        "elif int(Nota_1)< 0 or int(Nota_2)< 0 :\n",
        "  print('Las notas no pueden ser negativas')\n",
        "else:\n",
        "  Promedio=round((int(Nota_1)+int(Nota_2)+int(Nota_3))/3)\n",
        "  if Promedio >= 7:\n",
        "    print('EL promedio de notas es',Promedio,', Aprobado')\n",
        "  elif Promedio >= 5:\n",
        "    print('EL promedio de notas es',Promedio,', Recuperación')\n",
        "  else:\n",
        "    print('EL promedio de notas es',Promedio,', Reprobado')"
      ],
      "metadata": {
        "id": "QFamB78s-TW_",
        "colab": {
          "base_uri": "https://localhost:8080/"
        },
        "outputId": "64254453-9ac1-470b-8309-021bb2667995"
      },
      "execution_count": null,
      "outputs": [
        {
          "output_type": "stream",
          "name": "stdout",
          "text": [
            "¿Cuál es tu primera nota? 7\n",
            "¿Cuál es tu segunda nota? 9\n",
            "EL promedio de notas es 8 , Aprobado\n"
          ]
        }
      ]
    },
    {
      "cell_type": "code",
      "source": [],
      "metadata": {
        "id": "nuScbnHF-TfK"
      },
      "execution_count": null,
      "outputs": []
    },
    {
      "cell_type": "markdown",
      "source": [
        "## Operadores\n",
        "\n",
        "Durante la construcción de comandos a veces necesitamos de una elaboración mayor de la expresión condicional, necesitando que algunos operadores lógicos se encuentren integrados."
      ],
      "metadata": {
        "id": "Tf1wSOem6iwZ"
      }
    },
    {
      "cell_type": "markdown",
      "source": [
        "### `AND`, `OR`, `NOT`\n",
        "\n",
        "Los operadores lógicos `and`, `or` y `not` son usados para combinar expresiones lógicas en Python. Ellos son usados frecuentemente en conjunto con el comando `if` para crear estructuras condicionales más complejas.\n"
      ],
      "metadata": {
        "id": "GFIZnRWXGPWO"
      }
    },
    {
      "cell_type": "markdown",
      "source": [
        "- `AND` es usado para verificar si dos condiciones son verdaderas. La expresión lógica¹ `x and y` se evalúa como `True` tan solo si **ambas condiciones `x` y `y` son verdaderas**, y como `False` en caso contrario.\n",
        "\n",
        "- `OR` es usado para verificar si al menos una de las condiciones es verdadera. La expresión lógica `x or y` se evalúa como `True` **si al menos una de las condiciones `x` o `y` es verdadera**, y como `False` si ambas condiciones son falsas.\n",
        "\n",
        "- `NOT` es usado para **negar una condición**. La expresión lógica `not x` es evaluada como `True` si la condición x es falsa, y como `False` si la condición x es verdadera.\n",
        "\n",
        "¹ Una expresión lógica es una declaración que puede ser evaluada como verdadera o falsa. Ella se compone por operandos lógicos² y por operadores lógicos³, que son usados ​​para combinar varias expresiones lógicas en una única expresión.\n",
        "\n",
        "² Los operandos lógicos son los elementos que son comparados o evaluados en una expresión lógica. Ellos son generalmente valores verdaderos o falsos, pero también pueden ser expresiones lógicas más complejas. En Python, los operandos lógicos son los valores `True` y `False`.\n",
        "\n",
        "³ Los operadores lógicos son ls símbolos o palabras clave que son usados ​​para combinar varias expresiones lógicas en una única expresión. En Python, los operadores lógicos son `and`, `or` y `not`, bien como las palabras clave `if`, `elif` e `else`."
      ],
      "metadata": {
        "id": "Z_dgAoHXJbzB"
      }
    },
    {
      "cell_type": "markdown",
      "source": [
        "> Operadores lógicos más comunes\n",
        "\n",
        "|a|b|AND|OR|NOT|\n",
        "|-|-|-|-|-|\n",
        "|0|0|0|0|1\n",
        "|0|1|0|1|-\n",
        "|1|0|0|1|-\n",
        "|1|1|1|1|0\n"
      ],
      "metadata": {
        "id": "2E5aUogf-49u"
      }
    },
    {
      "cell_type": "code",
      "source": [
        "#variables\n",
        "V=True\n",
        "F=False"
      ],
      "metadata": {
        "id": "DFKmpvmS-Pa6"
      },
      "execution_count": null,
      "outputs": []
    },
    {
      "cell_type": "code",
      "source": [
        "if V or V:\n",
        "  print('Verdadero')\n",
        "else:\n",
        "  print('Falso')"
      ],
      "metadata": {
        "id": "W5BIrpOD-PeI",
        "colab": {
          "base_uri": "https://localhost:8080/"
        },
        "outputId": "5b1a3629-9b3d-422d-d2ff-4eb361463f0b"
      },
      "execution_count": null,
      "outputs": [
        {
          "output_type": "stream",
          "name": "stdout",
          "text": [
            "Verdadero\n"
          ]
        }
      ]
    },
    {
      "cell_type": "code",
      "source": [
        "if not F:\n",
        "  print('Verdadero')\n",
        "else:\n",
        "  print('Falso')"
      ],
      "metadata": {
        "id": "fpDhYxq4-PiM",
        "colab": {
          "base_uri": "https://localhost:8080/"
        },
        "outputId": "447987f3-5b75-4f67-e301-d274f9199700"
      },
      "execution_count": null,
      "outputs": [
        {
          "output_type": "stream",
          "name": "stdout",
          "text": [
            "Verdadero\n"
          ]
        }
      ]
    },
    {
      "cell_type": "markdown",
      "source": [
        "### `IN`\n",
        "\n",
        "Es usado para verificar si un elemento está presente en una lista, tupla u otra colección de conjunto. La expresión `x in y` se evalúa como `True` si el elemento `x` esta presente na variávelen la variable de conjunto `y`, y como `False` en caso contrario."
      ],
      "metadata": {
        "id": "w7EXG1dhWtja"
      }
    },
    {
      "cell_type": "markdown",
      "source": [
        "Podemos verificarlo con variables de texto.\n",
        "\n",
        "---\n",
        "\n",
        "**Situación:**\n",
        "\n",
        "En la escuela nos entregaron una lista con nombres de estudiantes que fueron aprobados según el promedio del semestre, pero es necesario verificar si algunos nombres están en esa lista para confirmar que los datos estén correctos.\n",
        "\n",
        "La lista distribuida puede ser observada a continuación:\n",
        "\n",
        "```\n",
        "lista = 'Juan Pérez, María González, Pedro Rodríguez, Ana López, Carlos Martínez,\n",
        "    Laura Sánchez, José García, Elena Fernández, Luis Morales, Carmen Torres,\n",
        "    David Ruiz, Isabel Ramírez, Javier Díaz, Sara Herrera, Miguel Castro,\n",
        "    Patricia Ortega, Francisco Vargas, Marta Jiménez, Manuel Medina, Rosa Molina,\n",
        "    Alejandro Silva, Silvia Ruiz, Andrés Torres, Natalia Soto, Diego Guerrero,\n",
        "    Paula Ríos, Ricardo Navarro, Alicia Cordero, Carlos Vidal, Lorena Gómez'\n",
        "```\n",
        "\n",
        "Los nombres que necesitas verificar son los siguientes:\n",
        "\n",
        "```\n",
        "nombre_1 = 'Miguel Castro'\n",
        "nombre_2 = 'Marcelo Noguera'\n",
        "```"
      ],
      "metadata": {
        "id": "enJNp6JenQbq"
      }
    },
    {
      "cell_type": "code",
      "source": [
        "lista = 'Juan Pérez, María González, Pedro Rodríguez, Ana López, Carlos Martínez,Laura Sánchez, José García, Elena Fernández, Luis Morales, Carmen Torres, David Ruiz, Isabel Ramírez, Javier Díaz, Sara Herrera, Miguel Castro,Patricia Ortega, Francisco Vargas, Marta Jiménez, Manuel Medina, Rosa Molina,Alejandro Silva, Silvia Ruiz, Andrés Torres, Natalia Soto, Diego Guerrero,Paula Ríos, Ricardo Navarro, Alicia Cordero, Carlos Vidal, Lorena Gómez'"
      ],
      "metadata": {
        "id": "gPPN9BCT-Mki"
      },
      "execution_count": null,
      "outputs": []
    },
    {
      "cell_type": "code",
      "source": [
        "nombre_1 = 'Miguel Castro'\n",
        "nombre_2 = 'Marcelo Noguera'"
      ],
      "metadata": {
        "id": "GINbG3Fa-Mnb"
      },
      "execution_count": null,
      "outputs": []
    },
    {
      "cell_type": "code",
      "source": [
        "if nombre_1 in lista:\n",
        "  print(nombre_1, 'El estudiante aprobó')\n",
        "else:\n",
        "  print(nombre_1,'El estudiante no aprobó')"
      ],
      "metadata": {
        "id": "hk-RhNRT-Mp7",
        "colab": {
          "base_uri": "https://localhost:8080/"
        },
        "outputId": "a40efa61-de5c-4a86-bb72-939dcddf5d2d"
      },
      "execution_count": null,
      "outputs": [
        {
          "output_type": "stream",
          "name": "stdout",
          "text": [
            "Miguel Castro El estudiante aprobó\n"
          ]
        }
      ]
    },
    {
      "cell_type": "code",
      "source": [
        "if nombre_2 in lista:\n",
        "  print(nombre_1, 'El estudiante aprobó')\n",
        "else:\n",
        "  print(nombre_1,'El estudiante no aprobó')"
      ],
      "metadata": {
        "colab": {
          "base_uri": "https://localhost:8080/"
        },
        "id": "1inbLEF4Dtsd",
        "outputId": "27fd25a4-d659-4495-ab78-d6fb5fdc9c08"
      },
      "execution_count": null,
      "outputs": [
        {
          "output_type": "stream",
          "name": "stdout",
          "text": [
            "Miguel Castro El estudiante no aprobó\n"
          ]
        }
      ]
    },
    {
      "cell_type": "code",
      "source": [
        "#1 - Escribe un programa que pida a la persona usuaria que proporcione dos números y muestre el número más grande.\n",
        "Valor_1=input('¿Cuál es tu primer número? ')\n",
        "Valor_2=input('¿Cuál es tu segundo número? ')\n",
        "if Valor_1>Valor_2:\n",
        "  print('El número más grande es',Valor_1)\n",
        "else:\n",
        "  print('El número más grande es',Valor_2)"
      ],
      "metadata": {
        "colab": {
          "base_uri": "https://localhost:8080/"
        },
        "id": "D67UYrt8EFf2",
        "outputId": "9a8f6eb6-2d0f-472c-d96f-b2574e4dbb71"
      },
      "execution_count": null,
      "outputs": [
        {
          "output_type": "stream",
          "name": "stdout",
          "text": [
            "¿Cuál es tu primer número? 5\n",
            "¿Cuál es tu segundo número? 7\n",
            "El número más grande es 7\n"
          ]
        }
      ]
    },
    {
      "cell_type": "code",
      "source": [
        "#2 - Escribe un programa que solicite el porcentaje de crecimiento de producción de una empresa e informe si hubo un crecimiento (porcentaje positivo) o una disminución (porcentaje negativo).\n",
        "Porcentaje=int(input('¿Cuál es el porcentaje de crecimiento de producción de la empresa? '))\n",
        "if Porcentaje>0:\n",
        "  print('Hubo un crecimiento de',Porcentaje,'%')\n",
        "else:\n",
        "  print('Hubo una disminución de',Porcentaje,'%')"
      ],
      "metadata": {
        "colab": {
          "base_uri": "https://localhost:8080/"
        },
        "id": "x--BZkiEEQUG",
        "outputId": "3657cb0e-bc28-40cd-8bfb-4671bfce29f1"
      },
      "execution_count": null,
      "outputs": [
        {
          "output_type": "stream",
          "name": "stdout",
          "text": [
            "¿Cuál es el porcentaje de crecimiento de producción de la empresa? -2\n",
            "Hubo una disminución de -2 %\n"
          ]
        }
      ]
    },
    {
      "cell_type": "code",
      "source": [
        "#3 - Escribe un programa que determine si una letra proporcionada por la persona usuaria es una vocal o una consonante.\n",
        "Letra=input('¿Cuál es tu letra? ')\n",
        "if Letra in 'aeiouAEIOU':\n",
        "  print(Letra,'es una vocal')\n",
        "elif Letra in '1234567890':\n",
        "  print(Letra,'No es letras, sino un número')\n",
        "else:\n",
        "  print(Letra,'es una consonate')"
      ],
      "metadata": {
        "colab": {
          "base_uri": "https://localhost:8080/"
        },
        "id": "IYizgT20EQsv",
        "outputId": "a53be5a8-b8da-4aaf-91e3-78c9ff0f050c"
      },
      "execution_count": null,
      "outputs": [
        {
          "output_type": "stream",
          "name": "stdout",
          "text": [
            "¿Cuál es tu letra? r\n",
            "r es una consonate\n"
          ]
        }
      ]
    },
    {
      "cell_type": "code",
      "source": [
        "#4 - Escribe un programa que lea valores promedio de precios de un modelo de automóvil durante 3 años consecutivos y muestre el valor más alto y más bajo entre esos tres años.\n",
        "Precio_1=int(input('¿Cuál es el precio del primer año? '))\n",
        "Precio_2=int(input('¿Cuál es el precio del segundo año? '))\n",
        "Precio_3=int(input('¿Cuál es el precio del tercer año? '))\n",
        "#Condiciones\n",
        "if Precio_1>Precio_2 and Precio_1>Precio_3:\n",
        "  print('El año con mayor precio fue el primero')\n",
        "elif Precio_2>Precio_1 and Precio_2>Precio_3:\n",
        "  print('El año con mayor precio fue el segundo')\n",
        "else:\n",
        "  print('El año con mayor precio fue el tercero')\n"
      ],
      "metadata": {
        "colab": {
          "base_uri": "https://localhost:8080/"
        },
        "id": "PtoBhp5eEQ53",
        "outputId": "b6fc6538-bf11-4700-8dc1-2f79cd2c714b"
      },
      "execution_count": null,
      "outputs": [
        {
          "output_type": "stream",
          "name": "stdout",
          "text": [
            "¿Cuál es el precio del primer año? 1000\n",
            "¿Cuál es el precio del segundo año? 50\n",
            "¿Cuál es el precio del tercer año? 20\n",
            "El año con mayor precio fue el primero\n"
          ]
        }
      ]
    },
    {
      "cell_type": "code",
      "source": [
        "#5 - Escribe un programa que pregunte sobre el precio de tres productos e indique cuál es el producto más barato para comprar.\n",
        "Producto_1=input('¿Cuál es el precio del primer producto? ')\n",
        "Producto_2=input('¿Cuál es el precio del segundo producto? ')\n",
        "Producto_3=input('¿Cuál es el precio del tercer producto? ')\n",
        "#Condición\n",
        "if not Producto_1.strip() or not Producto_2.strip() or not Producto_3.strip():\n",
        "  print('Debe ingresar todos los precios')\n",
        "elif Producto_1<Producto_2 and Producto_1<Producto_3:\n",
        "  print('El producto más barato es el primero')\n",
        "elif Producto_2<Producto_1 and Producto_2<Producto_3:\n",
        "  print('El producto más barato es el segundo')\n",
        "else:\n",
        "    print('El producto más barato es el tercero')"
      ],
      "metadata": {
        "id": "8I3o9rZZERHf",
        "colab": {
          "base_uri": "https://localhost:8080/"
        },
        "outputId": "be22a50c-56ae-4af0-b657-1de253182fd9"
      },
      "execution_count": null,
      "outputs": [
        {
          "output_type": "stream",
          "name": "stdout",
          "text": [
            "¿Cuál es el precio del primer producto? 150\n",
            "¿Cuál es el precio del segundo producto? 230\n",
            "¿Cuál es el precio del tercer producto? 110\n",
            "El producto más barato es el tercero\n"
          ]
        }
      ]
    },
    {
      "cell_type": "code",
      "source": [
        "#6 - Escribe un programa que lea tres números y los muestre en orden descendente.\n",
        "Valor_1=input('¿Cuál es tu primer número? ')\n",
        "Valor_2=input('¿Cuál es tu segundo número? ')\n",
        "Valor_3=input('¿Cuál es tu tercer número? ')\n",
        "#Condiciones\n",
        "if not Valor_1.strip() or not Valor_2.strip() or not Valor_3.strip():\n",
        "  print('Debe ingresar todos los números')\n",
        "elif Valor_1>Valor_2 and Valor_2>Valor_3 and Valor_3<Valor_1:\n",
        "    print(Valor_1)\n",
        "    print(Valor_2)\n",
        "    print(Valor_3)\n",
        "elif Valor_1>Valor_3 and Valor_3>Valor_2 and Valor_2<Valor_1:\n",
        "    print(Valor_1)\n",
        "    print(Valor_3)\n",
        "    print(Valor_2)\n",
        "elif Valor_2>Valor_1 and Valor_1>Valor_3 and Valor_3<Valor_2:\n",
        "    print(Valor_2)\n",
        "    print(Valor_1)\n",
        "    print(Valor_3)\n",
        "elif Valor_2>Valor_3 and Valor_3>Valor_1 and Valor_1<Valor_2:\n",
        "    print(Valor_2)\n",
        "    print(Valor_3)\n",
        "    print(Valor_1)\n",
        "elif Valor_3>Valor_2 and Valor_2>Valor_1 and Valor_1<Valor_3:\n",
        "    print(Valor_3)\n",
        "    print(Valor_2)\n",
        "    print(Valor_1)\n",
        "elif Valor_3>Valor_1 and Valor_1>Valor_2 and Valor_2<Valor_3:\n",
        "    print(Valor_3)\n",
        "    print(Valor_1)\n",
        "    print(Valor_2)"
      ],
      "metadata": {
        "id": "Kpc1IFB_ERbP",
        "colab": {
          "base_uri": "https://localhost:8080/"
        },
        "outputId": "4f89f636-26b0-4344-ebee-50d74014002f"
      },
      "execution_count": null,
      "outputs": [
        {
          "output_type": "stream",
          "name": "stdout",
          "text": [
            "¿Cuál es tu primer número? 5\n",
            "¿Cuál es tu segundo número? 7\n",
            "¿Cuál es tu tercer número? 6\n",
            "7\n",
            "6\n",
            "5\n"
          ]
        }
      ]
    },
    {
      "cell_type": "code",
      "source": [
        "#7 -Escribe un programa que pregunte en qué turno estudia la persona usuaria (\"mañana\", \"tarde\" o \"noche\") y muestre el mensaje \"¡Buenos Días!\", \"¡Buenas Tardes!\", \"¡Buenas Noches!\" o \"Valor Inválido!\", según el caso.\n",
        "#Variables\n",
        "Turno=input('¿En qué turno estudias? ')\n",
        "#Condiciones\n",
        "if Turno=='mañana':\n",
        "  print('¡Buenos Días!')\n",
        "elif Turno=='Tarde':\n",
        "  print('¡Buenas Tardes!')\n",
        "elif Turno=='Noche':\n",
        "  print('¡Buenas Noches!')\n",
        "else:\n",
        "  print('Valor Inválido!')"
      ],
      "metadata": {
        "colab": {
          "base_uri": "https://localhost:8080/"
        },
        "id": "US8e5QSySUkG",
        "outputId": "7347a02c-8c55-4dd4-c685-f038aeb02e72"
      },
      "execution_count": null,
      "outputs": [
        {
          "output_type": "stream",
          "name": "stdout",
          "text": [
            "¿En qué turno estudias? mañana\n",
            "¡Buenos Días!\n"
          ]
        }
      ]
    },
    {
      "cell_type": "code",
      "source": [
        "#8 - Escribe un programa que solicite un número entero a la persona usuaria y determine si es par o impar. Pista: Puedes usar el operador módulo (%).\n",
        "Valor_1=input('¿Cuál es tu número? ')\n",
        "#Condiciones\n",
        "if not Valor_1.strip():\n",
        "  print('Debe ingresar un número')\n",
        "elif int(Valor_1)%2==0:\n",
        "  print('El número es par')\n",
        "else:\n",
        "  print('El número es impar')"
      ],
      "metadata": {
        "colab": {
          "base_uri": "https://localhost:8080/"
        },
        "id": "qL8FkYRZSUze",
        "outputId": "b406ff13-9dfc-49a3-c8b1-1f0aff0e698d"
      },
      "execution_count": null,
      "outputs": [
        {
          "output_type": "stream",
          "name": "stdout",
          "text": [
            "¿Cuál es tu número? 7\n",
            "El número es impar\n"
          ]
        }
      ]
    },
    {
      "cell_type": "code",
      "source": [
        "#9 - Escribe un programa que pida un número a la persona usuaria y le informe si es entero o decimal.\n",
        "Valor_1=input('¿Cuál es tu número? ')\n",
        "#Condiciones en caso este punto es para referencia en PERU, en otro pais puede ser \" , \", si es así cambiarlo\n",
        "if '.' in Valor_1:\n",
        "  print('El número es decimal')\n",
        "else:\n",
        "  print('El número es entero')"
      ],
      "metadata": {
        "colab": {
          "base_uri": "https://localhost:8080/"
        },
        "id": "PdQw4Y4USVB3",
        "outputId": "e8451dc8-b1a3-42cc-d78d-3f71c8a7a107"
      },
      "execution_count": null,
      "outputs": [
        {
          "output_type": "stream",
          "name": "stdout",
          "text": [
            "¿Cuál es tu número? 17.7\n",
            "El número es decimal\n"
          ]
        }
      ]
    },
    {
      "cell_type": "code",
      "source": [
        "#10 - Un programa debe ser escrito para leer dos números y luego preguntar a la persona usuaria qué operación desea realizar.\n",
        "#El resultado de la operación debe incluir información sobre el número, si es par o impar, positivo o negativo, e entero o decimal.\n",
        "#Variables\n",
        "Valor_1=input('¿Cuál es tu primer número? ')\n",
        "Valor_2=input('¿Cuál es tu segundo número? ')\n",
        "#Aquí debe ingresar el simbolo son:\n",
        "# + => Suma\n",
        "# - => Resta\n",
        "# * => Multiplicación\n",
        "# / => División\n",
        "# // => División entera\n",
        "# % => Residuo de una división\n",
        "# ** => Potencia\n",
        "Operacion=input('¿Qué operación deseas realizar? ')\n",
        "\n",
        "#Conversiones antes de validar si son valores correctos\n",
        "#Primero guardo como fue ingresado en caso sea correctos\n",
        "Original1=Valor_1\n",
        "Original2=Valor_2\n",
        "\n",
        "#Condiciones iniciales\n",
        "  # Esto para obligar al usuario ingresar valor casi correctos\n",
        "if not Valor_1.strip() or not Valor_2.strip() or not Operacion.strip():\n",
        "  Msj=True\n",
        "else:\n",
        "  #Aqui convertimos\n",
        "  Valor_1=Valor_1.replace('-','')\n",
        "  Valor_2=Valor_2.replace('-','')\n",
        "  Valor_1=Valor_1.replace('.','')\n",
        "  Valor_2=Valor_2.replace('.','')\n",
        "  Valor_1=Valor_1.replace(',','')\n",
        "  Valor_2=Valor_2.replace(',','')\n",
        "  #Extrayendo solo un valor desde la izquierda, ejemplo -5.3, se convertira a 5\n",
        "  Valor_1=Valor_1[0]\n",
        "  Valor_2=Valor_2[0]\n",
        "  if Valor_1 not in ['0','1','2','3','4','5','6','7','8','9'] or Valor_2 not in ['0','1','2','3','4','5','6','7','8','9'] or Operacion not in ['+','-','*','/','//','%','**']:\n",
        "    Msj=True\n",
        "  else:\n",
        "    Msj=False\n",
        "\n",
        "if Msj==False:\n",
        "  #Cuando los números fueron ingresados correctamente\n",
        "  Num1 = float(Original1)\n",
        "  Num2 = float(Original2)\n",
        "\n",
        "  # Decimal o Entero - Valor1\n",
        "  if '.' in Original1:\n",
        "    MenDecEn1='decimal'\n",
        "  else:\n",
        "    MenDecEn1='entero'\n",
        "  # Decimal o Entero - Valor2\n",
        "  if '.' in Original2:\n",
        "    MenDecEn2='decimal'\n",
        "  else:\n",
        "    MenDecEn2='entero'\n",
        "  # Positivo o Negativo - Valor1\n",
        "  if Num1<0:\n",
        "    MenPosNeg1='negativo'\n",
        "  elif Num1>0:\n",
        "    MenPosNeg1='positivo'\n",
        "  else:\n",
        "    MenPosNeg1='cero'\n",
        "  # Positivo o Negativo - Valor2\n",
        "  if Num2<0:\n",
        "    MenPosNeg2='negativo'\n",
        "  elif Num2>0:\n",
        "    MenPosNeg2='positivo'\n",
        "  else:\n",
        "    MenPosNeg2='cero'\n",
        "  # Par o Impar - Valor1\n",
        "  if Num1%2==0:\n",
        "    MenParImpar1='es par'\n",
        "  else:\n",
        "    MenParImpar1='es impar'\n",
        "  # Par o Impar - Valor2\n",
        "  if Num2%2==0:\n",
        "    MenParImpar2='es par'\n",
        "  else:\n",
        "    MenParImpar2='es impar'\n",
        "  # Operación a realizar\n",
        "  if Operacion=='+':\n",
        "    Resultado=Num1+Num2\n",
        "  elif Operacion=='-':\n",
        "    Resultado=Num1-Num2\n",
        "  elif Operacion=='*':\n",
        "    Resultado=Num1*Num2\n",
        "  elif Operacion=='/':\n",
        "    Resultado=Num1/Num2\n",
        "  elif Operacion=='//':\n",
        "    Resultado=Num1//Num2\n",
        "  elif Operacion=='%':\n",
        "    Resultado=Num1%Num2\n",
        "  elif Operacion=='**':\n",
        "    Resultado=Num1**Num2\n",
        "\n",
        "\n",
        "  print('El primer número   ==>',Original1,' es ',MenParImpar1,', ',MenDecEn1,' y ',MenPosNeg1)\n",
        "  print('El segundo número  ==>',Original2,' es ',MenParImpar2,', ',MenDecEn2,' y ',MenPosNeg2)\n",
        "  print('La operación dada  ==>',Operacion,' es = ',Resultado)\n",
        "else:\n",
        "  print('Debe ingresar todos los números 🧐 e indicar el proceso 🫵🤓')"
      ],
      "metadata": {
        "colab": {
          "base_uri": "https://localhost:8080/"
        },
        "id": "5VWDISknSVQV",
        "outputId": "81794f48-68f6-4b10-d7b5-048891f944cd"
      },
      "execution_count": null,
      "outputs": [
        {
          "output_type": "stream",
          "name": "stdout",
          "text": [
            "¿Cuál es tu primer número? 15\n",
            "¿Cuál es tu segundo número? -2.3\n",
            "¿Qué operación deseas realizar? *\n",
            "El primer número   ==> 15  es  es impar ,  entero  y  positivo\n",
            "El segundo número  ==> -2.3  es  es impar ,  decimal  y  negativo\n",
            "La operación dada  ==> *  es =  -34.5\n"
          ]
        }
      ]
    },
    {
      "cell_type": "code",
      "source": [
        "from os import truncate\n",
        "# 11 - Escribe un programa que pida a la persona usuaria tres números que representan los lados de un triángulo.\n",
        "# El programa debe informar si los valores pueden utilizarse para formar un triángulo y, en caso afirmativo, si es equilátero, isósceles o escaleno.\n",
        "# Ten en cuenta algunas sugerencias:\n",
        "# Tres lados forman un triángulo cuando la suma de cualesquiera dos lados es mayor que el tercero;\n",
        "# Triángulo Equilátero: tres lados iguales;\n",
        "# Triángulo Isósceles: dos lados iguales;\n",
        "# Triángulo Escaleno: tres lados diferentes.\n",
        "\n",
        "#Variables\n",
        "Cateto_1=input('¿Cuál es el primer cateto? ')\n",
        "Cateto_2=input('¿Cuál es el segundo cateto? ')\n",
        "Hipotenusa=input('¿Cuál es la hipotenusa? ')\n",
        "\n",
        "\n",
        "#Condiciones iniciales\n",
        "if not Cateto_1.strip() or not Cateto_2.strip() or not Hipotenusa.strip():\n",
        "  Msj=True\n",
        "else:\n",
        "  # Hacemos la conversión para validar\n",
        "  OriginalCateto1=Cateto_1\n",
        "  OriginalCateto2=Cateto_2\n",
        "  OriginalHipotenusa=Hipotenusa\n",
        "  Cateto_1 = Cateto_1.replace('-', '')\n",
        "  Cateto_2 = Cateto_2.replace('-', '')\n",
        "  Hipotenusa = Hipotenusa.replace('-', '')\n",
        "  Cateto_1 = Cateto_1.replace('.', '')\n",
        "  Cateto_2 = Cateto_2.replace('.', '')\n",
        "  Hipotenusa = Hipotenusa.replace('.', '')\n",
        "  Cateto_1 = Cateto_1.replace(',', '')\n",
        "  Cateto_2 = Cateto_2.replace(',', '')\n",
        "  Hipotenusa = Hipotenusa.replace(',', '')\n",
        "  #Poniendo la condición para que solo me acepte números positivos sea decimal o enteros\n",
        "  if not Cateto_1.isdigit() or not Cateto_2.isdigit() or not Hipotenusa.isdigit():\n",
        "    Msj1='Ingresar números (decimal/entero)'\n",
        "    Msj=True\n",
        "  else:\n",
        "  #Obtenemos los originales y les aplicamos float para aceptar tanto decimales como enteros\n",
        "    OriginalCateto1=float(OriginalCateto1)\n",
        "    OriginalCateto2=float(OriginalCateto2)\n",
        "    OriginalHipotenusa=float(OriginalHipotenusa)\n",
        "    #Obtenemos el valor de los numeros sean decimales o enteros para saber si son mayores a 0\n",
        "    if OriginalCateto1<=0 or OriginalCateto2<=0 or OriginalHipotenusa<=0:\n",
        "      Msj1='Deben ser mayores a 0'\n",
        "      Msj=True\n",
        "    else:\n",
        "        if not (OriginalCateto1 + OriginalCateto2 > OriginalHipotenusa and OriginalCateto1 + OriginalHipotenusa > OriginalCateto2 and OriginalCateto2 + OriginalHipotenusa > OriginalCateto1):\n",
        "          Msj1='Estos valores no pueden formar un triángulo'\n",
        "          Msj=True\n",
        "        else:\n",
        "          Msj=False\n",
        "\n",
        "#Ejecutando para descubrir que tipo de triángulo es\n",
        "if Msj==True:\n",
        "  print('❌ Valores incorrectos,🧐: ',Msj1)\n",
        "else:\n",
        "      #Triángulo Equilátero: tres lados iguales\n",
        "      if OriginalCateto1==OriginalCateto2 and OriginalCateto1==OriginalHipotenusa:\n",
        "        print('El triángulo es equilátero')\n",
        "      #Triángulo Escaleno: tres lados diferentes\n",
        "      elif OriginalCateto1!=OriginalCateto2 and OriginalCateto1!=OriginalHipotenusa and OriginalCateto2!=OriginalHipotenusa:\n",
        "        print('El triángulo es escaleno')\n",
        "      #Triángulo Isósceles: dos lados iguales\n",
        "      elif OriginalCateto1 == OriginalCateto2 or OriginalCateto1 == OriginalHipotenusa or OriginalCateto2 == OriginalHipotenusa:\n",
        "        print('El triángulo es isósceles')\n",
        "\n",
        "\n"
      ],
      "metadata": {
        "id": "v43cdo1ASVe4",
        "colab": {
          "base_uri": "https://localhost:8080/"
        },
        "outputId": "16a2cfb8-5d3e-440a-a6f7-6b84d56c9274"
      },
      "execution_count": null,
      "outputs": [
        {
          "output_type": "stream",
          "name": "stdout",
          "text": [
            "¿Cuál es el primer cateto? 4\n",
            "¿Cuál es el segundo cateto? 5\n",
            "¿Cuál es la hipotenusa? 7\n",
            "El triángulo es escaleno\n"
          ]
        }
      ]
    },
    {
      "cell_type": "code",
      "source": [],
      "metadata": {
        "id": "XYndZDHoDxn8"
      },
      "execution_count": null,
      "outputs": []
    },
    {
      "cell_type": "markdown",
      "source": [
        "# Estructuras de repetición"
      ],
      "metadata": {
        "id": "aL1vJPewvwvz"
      }
    },
    {
      "cell_type": "markdown",
      "source": [
        "Cuando tenemos que ejecutar un mismo bloque de comandos durante varias ocasiones no es nada práctico hacerlo a mano.\n",
        "\n",
        "**Situación**: Nos fue solicitado obtener e imprimir el promedio de 2 notas de **3 estudantes**:"
      ],
      "metadata": {
        "id": "VcPfCa8d-84t"
      }
    },
    {
      "cell_type": "code",
      "source": [],
      "metadata": {
        "id": "xcx21IGT9qA0"
      },
      "execution_count": 1,
      "outputs": []
    },
    {
      "cell_type": "code",
      "source": [],
      "metadata": {
        "id": "Wtbiy9Ay9rGJ"
      },
      "execution_count": null,
      "outputs": []
    },
    {
      "cell_type": "code",
      "source": [],
      "metadata": {
        "id": "Yfyz4anY9rIr"
      },
      "execution_count": null,
      "outputs": []
    },
    {
      "cell_type": "markdown",
      "source": [
        "Ahora imaginemos una situación en que no son tan solo 3 estudiantes, sino 100 estudiantes. No sería nada interesante repetir el mismo código 100 veces, sino **ejecutar el mismo código 100 veces**.\n",
        "\n",
        "¡Esta estructura la logramos construir con lazos de repetición!"
      ],
      "metadata": {
        "id": "9puIuvUbFSFX"
      }
    },
    {
      "cell_type": "markdown",
      "source": [
        "## `WHILE`"
      ],
      "metadata": {
        "id": "uLO9-aE4-wx8"
      }
    },
    {
      "cell_type": "markdown",
      "source": [
        "El lazo `while` es una estructura de control de repetición en Python que permite ejecutar un bloque de código repetidamente mientras que una determinada condición sea verdadera. Su estructura es:\n",
        "\n",
        "\n",
        "\n",
        "```\n",
        "while condicion:\n",
        "    # bloque de codigo\n",
        "```\n",
        "\n",
        "Vamos a construir un ejemplo con un contador de 1 hasta 10.\n"
      ],
      "metadata": {
        "id": "rXZxDMiqHxm9"
      }
    },
    {
      "cell_type": "code",
      "source": [],
      "metadata": {
        "id": "Hd0ZSWxD9wCD"
      },
      "execution_count": null,
      "outputs": []
    },
    {
      "cell_type": "code",
      "source": [],
      "metadata": {
        "id": "miFHNqp29nOL"
      },
      "execution_count": null,
      "outputs": []
    },
    {
      "cell_type": "markdown",
      "source": [
        "Ahora vamos a colectar las notas y promedios de cada alumno dentro del lazo `while`. Haremos un ejemplo con 3 promedios."
      ],
      "metadata": {
        "id": "W4KZPBJuIrut"
      }
    },
    {
      "cell_type": "code",
      "source": [],
      "metadata": {
        "id": "9T5eCLFx9wk6"
      },
      "execution_count": null,
      "outputs": []
    },
    {
      "cell_type": "code",
      "source": [],
      "metadata": {
        "id": "P6E0_dW-9lZ9"
      },
      "execution_count": null,
      "outputs": []
    },
    {
      "cell_type": "markdown",
      "source": [
        "## `FOR`"
      ],
      "metadata": {
        "id": "WgAIaENMMfCP"
      }
    },
    {
      "cell_type": "markdown",
      "source": [
        "El lazo `for` es un tipo de estructura de control de flujo en Python que permite iterar sobre un conjunto de elementos. Su estructura es:\n",
        "\n",
        "\n",
        "\n",
        "```\n",
        "for elemento in conjunto:\n",
        "    # codigo a ser ejecutado para cada elemento\n",
        "```\n",
        "\n",
        "El lazo `for` itera sobre cada elemento del conjunto especificado y ejecuta el bloque de código dentro del lazo para cada elemento. Cuando el lazo llega al final del conjunto, este se interrumpe y el programa continúa la ejecución después del lazo.\n",
        "\n"
      ],
      "metadata": {
        "id": "HxrSZoRAMh-x"
      }
    },
    {
      "cell_type": "markdown",
      "source": [
        "El conjunto lo podemos generar con la función incorporada [`range()`](https://docs.python.org/3/library/functions.html#func-range). Se trata de una función capaz de generar una secuencia de números enteros. La estructura de esta función es:\n",
        "\n",
        "```\n",
        "range(inicio, fin, paso)\n",
        "```\n",
        "\n",
        "Según la documentación, `range()` genera una secuencia de números enteros a partir del valor del parámetro `inicio` hasta el valor del parámetro `fin`, de acuerdo con el valor del parámetro `paso`. Si `inicio` no es especificado, el valor por defecto es `0`. Si `paso` no es especificado, el valor por defecto es `1`.\n",
        "\n",
        "\n"
      ],
      "metadata": {
        "id": "6VgjyoQtPHBM"
      }
    },
    {
      "cell_type": "markdown",
      "source": [
        "Vamos a recrear el mismo contador `while` con el lazo `for`."
      ],
      "metadata": {
        "id": "ryn0hfdlUwC8"
      }
    },
    {
      "cell_type": "code",
      "source": [],
      "metadata": {
        "id": "KkL1wUIj9jL4"
      },
      "execution_count": null,
      "outputs": []
    },
    {
      "cell_type": "code",
      "source": [],
      "metadata": {
        "id": "uXIZnLSr9jOu"
      },
      "execution_count": null,
      "outputs": []
    },
    {
      "cell_type": "markdown",
      "source": [
        "# Estructuras de datos"
      ],
      "metadata": {
        "id": "8noP8OJ0Vhux"
      }
    },
    {
      "cell_type": "markdown",
      "source": [
        "Un conjunto de elementos es una colección de items, que son almacenados juntos de manera organizada. Algunos ejemplos de conjuntos de elementos en Python son las listas, los strings y los diccionarios."
      ],
      "metadata": {
        "id": "xpEUkefTu8fY"
      }
    },
    {
      "cell_type": "markdown",
      "source": [
        "## Listas"
      ],
      "metadata": {
        "id": "THSg4KYLwxIb"
      }
    },
    {
      "cell_type": "markdown",
      "source": [
        "Las listas pueden almacenar una colección de items en orden. Ellas son delimitadas por corchetes `[]` y sus elementos son separados por comas.\n",
        "\n",
        "Estas pueden almacenar cualquier tipo de items, incluyendo números, strings, objetos, otras listas, entre otros. También nos permiten almacenar items de tipos de datos diferentes juntos en una única lista."
      ],
      "metadata": {
        "id": "dzpsiqrOyJcK"
      }
    },
    {
      "cell_type": "code",
      "source": [
        "lista = ['Penélope Camacho',9.5,9.0,9.7,True]\n",
        "lista"
      ],
      "metadata": {
        "id": "DO3TBj7nAYeG",
        "colab": {
          "base_uri": "https://localhost:8080/"
        },
        "outputId": "fbee2eb5-265e-4b5b-badf-a0dd9331074b"
      },
      "execution_count": null,
      "outputs": [
        {
          "output_type": "execute_result",
          "data": {
            "text/plain": [
              "['Penélope Camacho', 9.5, 9.0, 9.7, True]"
            ]
          },
          "metadata": {},
          "execution_count": 62
        }
      ]
    },
    {
      "cell_type": "code",
      "source": [
        "# Ejemplo 1: Agregar un string\n",
        "Colores = ['Azul', 'Rojo']\n",
        "Colores.append('Verde')\n",
        "print(Colores)  # ['Azul', 'Rojo', 'Verde']\n",
        "\n",
        "# Ejemplo 2: Agregar un número\n",
        "Numeros = [1, 2, 3]\n",
        "Numeros.append(4)\n",
        "print(Numeros)  # [1, 2, 3, 4]\n",
        "\n",
        "# Ejemplo 3: Agregar una lista (¡cuidado!)\n",
        "Colores = ['Azul', 'Rojo']\n",
        "Colores.append(['Verde', 'Morado'])\n",
        "print(Colores)  # ['Azul', 'Rojo', ['Verde', 'Morado']]  ← Lista dentro de lista"
      ],
      "metadata": {
        "id": "DO2ubP9N9D_2",
        "colab": {
          "base_uri": "https://localhost:8080/"
        },
        "outputId": "1b7cd260-f9db-445c-9e4c-7637c9a283d2"
      },
      "execution_count": 1,
      "outputs": [
        {
          "output_type": "stream",
          "name": "stdout",
          "text": [
            "['Azul', 'Rojo', 'Verde']\n",
            "[1, 2, 3, 4]\n",
            "['Azul', 'Rojo', ['Verde', 'Morado']]\n"
          ]
        }
      ]
    },
    {
      "cell_type": "markdown",
      "source": [
        "Las listas son organizadas en Python porque **cada elemento de la lista tiene un índice que indica su posición al interior de la lista**. Los índices comienzan en 0 van hasta el tamaño de la lista menos 1."
      ],
      "metadata": {
        "id": "qUz3sJNl6LgK"
      }
    },
    {
      "cell_type": "markdown",
      "source": [
        "Tenemos entonces 5 elementos con índices que varían de 0 a 4, ordenadamente:\n",
        "\n",
        "```\n",
        "#             [0]           [1]   [2]   [3]    [4]\n",
        "lista = ['Penélope Camacho', 9.5 , 9.0 , 9.7 , True]\n",
        "```\n",
        "\n",
        "En Python tenemos también los índices **negativos** que se inician en el último elemento con el valor de `-1` y avanzan en el universo de los negativos hasta llegar al 1° elemento:\n",
        "\n",
        "```\n",
        "#             [-5]         [-4]  [-3]  [-2]   [-1]\n",
        "lista = ['Penélope Camacho', 9.5 , 9.0 , 9.7 , True]\n",
        "```\n",
        "\n",
        "Logramos seleccionar separadamente cada elemento a través de sus respectivos índices. Colocando el nombre de la lista y en seguida el índice que será seleccionado."
      ],
      "metadata": {
        "id": "rLf-Qg526hFD"
      }
    },
    {
      "cell_type": "code",
      "source": [
        "# Ejemplo 1: pop() sin argumentos (elimina el último)\n",
        "Frutas = ['manzana', 'banana', 'naranja']\n",
        "Ultima = Frutas.pop()\n",
        "print(Ultima)\n",
        "print(Frutas)"
      ],
      "metadata": {
        "id": "4hco1Zqy88Kw",
        "colab": {
          "base_uri": "https://localhost:8080/"
        },
        "outputId": "27fd1170-5903-4210-cff5-4f50691b7cdd"
      },
      "execution_count": 12,
      "outputs": [
        {
          "output_type": "stream",
          "name": "stdout",
          "text": [
            "naranja\n",
            "['manzana', 'banana']\n"
          ]
        }
      ]
    },
    {
      "cell_type": "code",
      "source": [
        "# Ejemplo 2: pop(0) - elimina el primero\n",
        "colores = ['rojo', 'verde', 'azul']\n",
        "primero = colores.pop(0)\n",
        "print(primero)\n",
        "print(colores)"
      ],
      "metadata": {
        "colab": {
          "base_uri": "https://localhost:8080/"
        },
        "id": "00uvqe4biY0f",
        "outputId": "5f892f31-f8e4-4b59-fa71-f5a5282c3cb4"
      },
      "execution_count": 13,
      "outputs": [
        {
          "output_type": "stream",
          "name": "stdout",
          "text": [
            "rojo\n",
            "['verde', 'azul']\n"
          ]
        }
      ]
    },
    {
      "cell_type": "code",
      "source": [
        "# Ejemplo 3: pop(índice) - elimina en posición específica\n",
        "Numeros = [10, 20, 30, 40]\n",
        "Elemento = Numeros.pop(1)  # elimina el elemento en índice 1\n",
        "print(Elemento)\n",
        "print(Numeros)"
      ],
      "metadata": {
        "id": "M8lH0I2288Ph",
        "colab": {
          "base_uri": "https://localhost:8080/"
        },
        "outputId": "f9a509fe-3fc1-4321-8157-a54633fdc78b"
      },
      "execution_count": 11,
      "outputs": [
        {
          "output_type": "stream",
          "name": "stdout",
          "text": [
            "20\n",
            "[10, 30, 40]\n"
          ]
        }
      ]
    },
    {
      "cell_type": "markdown",
      "source": [
        "Una forma más dinámica de trabajar item a item en una lista es utilizando un lazo `for` para leer un elemento a la vez."
      ],
      "metadata": {
        "id": "6TaE1ijmBTCd"
      }
    },
    {
      "cell_type": "code",
      "source": [],
      "metadata": {
        "id": "rBx4Yu1786Sy"
      },
      "execution_count": null,
      "outputs": []
    },
    {
      "cell_type": "markdown",
      "source": [
        "**Situación**: La nota `9.0` de Penélope necesita ser ajustada pues ganó 1 punto en su última nota por participación en clase. Entonces es necesario realizar un cambio en el índice `2` de `9.0` a `10.0`."
      ],
      "metadata": {
        "id": "Dh1_HnIVvucY"
      }
    },
    {
      "cell_type": "code",
      "source": [],
      "metadata": {
        "id": "bVPoZg668z3T"
      },
      "execution_count": null,
      "outputs": []
    },
    {
      "cell_type": "code",
      "source": [],
      "metadata": {
        "id": "Jo_PBQ0g8z7D"
      },
      "execution_count": null,
      "outputs": []
    },
    {
      "cell_type": "markdown",
      "source": [
        "También podemos calcular el promedio del estudiante a partir de los datos que tenemos."
      ],
      "metadata": {
        "id": "53XduzXkycAf"
      }
    },
    {
      "cell_type": "code",
      "source": [],
      "metadata": {
        "id": "SIH61Rrb8yv4"
      },
      "execution_count": null,
      "outputs": []
    },
    {
      "cell_type": "markdown",
      "source": [
        "## Manipulación de listas\n",
        "\n",
        "Las listas son muy útiles en Python porque nos permiten almacenar y acceder a una colección de items de manera organizada y rápida. Estas también ofrecen muchos métodos útiles para manipular los itens almacenados, como adicionar, remover, clasificar y buscar elementos."
      ],
      "metadata": {
        "id": "d-iYr10-y4qw"
      }
    },
    {
      "cell_type": "markdown",
      "source": [
        "#### Cantidad de elementos\n",
        "\n",
        "Usamos la función [`len()`](https://docs.python.org/3/library/functions.html#len) para descubrir la cantidad de elementos de un conjunto."
      ],
      "metadata": {
        "id": "ZLqx9A97XVB_"
      }
    },
    {
      "cell_type": "code",
      "source": [
        "# Cuenta caracteres (incluyendo espacios)\n",
        "texto = \"Hola mundo\"\n",
        "print(len(texto))  # 10\n",
        "\n",
        "nombre = \"María\"\n",
        "print(len(nombre))  # 5\n",
        "\n",
        "vacio = \"\"\n",
        "print(len(vacio))  # 0"
      ],
      "metadata": {
        "colab": {
          "base_uri": "https://localhost:8080/"
        },
        "id": "fb9Gfu7ZjLT3",
        "outputId": "4b6a4496-12b8-4cd9-f614-4c20fef09511"
      },
      "execution_count": 15,
      "outputs": [
        {
          "output_type": "stream",
          "name": "stdout",
          "text": [
            "10\n",
            "5\n",
            "0\n"
          ]
        }
      ]
    },
    {
      "cell_type": "code",
      "source": [
        "# Ejemplo 1: Contar elementos de una lista\n",
        "Frutas = ['manzana', 'banana', 'naranja']\n",
        "print(len(Frutas))  # 3\n",
        "\n",
        "# Ejemplo 2: Lista vacía\n",
        "Vacia = []\n",
        "print(len(Vacia))  # 0\n",
        "\n",
        "# Ejemplo 3: Lista con diferentes tipos\n",
        "Mixta = [1, 'hola', True, 3.14, [1, 2]]\n",
        "print(len(Mixta))  # 5 (cuenta cada elemento, incluso la lista anidada como 1)\n",
        "\n",
        "# Ejemplo 4: Uso común - verificar si hay elementos\n",
        "Numeros = [10, 20, 30]\n",
        "if len(Numeros) > 0:\n",
        "    print(\"La lista tiene elementos\")\n",
        "\n",
        "# Ejemplo 5: Acceder al último elemento\n",
        "Colores = ['rojo', 'verde', 'azul']\n",
        "Ultimo_indice = len(Colores) - 1  # 2\n",
        "print(Colores[Ultimo_indice])  # 'azul'"
      ],
      "metadata": {
        "id": "6q1Tmm7P8wQf",
        "colab": {
          "base_uri": "https://localhost:8080/"
        },
        "outputId": "518e4daf-6531-431c-a69f-4a9d3530c103"
      },
      "execution_count": 14,
      "outputs": [
        {
          "output_type": "stream",
          "name": "stdout",
          "text": [
            "3\n",
            "0\n",
            "5\n",
            "La lista tiene elementos\n",
            "azul\n"
          ]
        }
      ]
    },
    {
      "cell_type": "markdown",
      "source": [
        "#### Partición\n",
        "\n",
        "La partición de listas por indexación en Python es una técnica muy útil para seleccionar un subconjunto de elementos de una lista. Esta se realiza usando la sintaxis `lista[inicio:fin]`, donde `inicio` es el índice del primer elemento que será incluído en la partición `fin` es el índice del primer elemento que será excluído de la partición."
      ],
      "metadata": {
        "id": "Z5tpstlHJss3"
      }
    },
    {
      "cell_type": "code",
      "source": [
        "MiLista=[1,2,3,4,5,6,7,8,9] # Recordar que para las listas sus indices son desde 0 a ......N"
      ],
      "metadata": {
        "id": "NctvJTTU8uV9"
      },
      "execution_count": 16,
      "outputs": []
    },
    {
      "cell_type": "markdown",
      "source": [
        "#### [`append()`](https://docs.python.org/3/tutorial/datastructures.html#:~:text=of%20list%20objects%3A-,list.append(x),-Add%20an%20item)\n",
        "\n",
        "Añade un elemento al final de la lista."
      ],
      "metadata": {
        "id": "O0RRyabkRzZC"
      }
    },
    {
      "cell_type": "code",
      "source": [
        "lista = [1, 2, 3]\n",
        "lista.append(4)\n",
        "print(lista)  # [1, 2, 3, 4]"
      ],
      "metadata": {
        "id": "_Q0oODwa8spC",
        "colab": {
          "base_uri": "https://localhost:8080/"
        },
        "outputId": "1f43ef44-b078-47e8-ddc5-6ffdc31e4e3b"
      },
      "execution_count": 19,
      "outputs": [
        {
          "output_type": "stream",
          "name": "stdout",
          "text": [
            "[1, 2, 3, 4]\n"
          ]
        }
      ]
    },
    {
      "cell_type": "code",
      "source": [
        "lista = [1, 2, 4]\n",
        "lista.insert(2, 3)  # Inserta un valor, justo en la posición indicada, en este caso 2\n",
        "print(lista)  # [1, 2, 3, 4]"
      ],
      "metadata": {
        "id": "RM894r2M8sse",
        "colab": {
          "base_uri": "https://localhost:8080/"
        },
        "outputId": "b0e0c72c-dd08-4eb4-fbfb-32e809172b15"
      },
      "execution_count": 20,
      "outputs": [
        {
          "output_type": "stream",
          "name": "stdout",
          "text": [
            "[1, 2, 3, 4]\n"
          ]
        }
      ]
    },
    {
      "cell_type": "markdown",
      "source": [
        "#### [`extend()`](https://docs.python.org/3/tutorial/datastructures.html#:~:text=list.extend(iterable))\n",
        "\n",
        "Añade varios elementos al final de la lista.\n",
        "\n",
        "Añadiremos las notas `[10.0,8.0,9.0]` En la lista de Penélope Camacho."
      ],
      "metadata": {
        "id": "uQV91XMsUOJD"
      }
    },
    {
      "cell_type": "code",
      "source": [
        "lista = [1, 2, 3]\n",
        "lista.extend([4, 5, 6])\n",
        "print(lista)  # [1, 2, 3, 4, 5, 6]"
      ],
      "metadata": {
        "id": "6Zk2MpMw8rQc",
        "colab": {
          "base_uri": "https://localhost:8080/"
        },
        "outputId": "15f68deb-5c47-4182-8fe6-db8ae796a9bf"
      },
      "execution_count": 23,
      "outputs": [
        {
          "output_type": "stream",
          "name": "stdout",
          "text": [
            "[1, 2, 3, 4, 5, 6]\n"
          ]
        }
      ]
    },
    {
      "cell_type": "markdown",
      "source": [
        "*A continuación te mostraremos lo que no puede realizarse con* `append`."
      ],
      "metadata": {
        "id": "IVJvkTwNUk6M"
      }
    },
    {
      "cell_type": "code",
      "source": [
        "# TUPLA - NO SE PUEDE MODIFICAR\n",
        "# tupla = (10, 20, 30)\n",
        "# tupla[0] = 99        # ❌ Error: 'tuple' object does not support item assignment\n",
        "# tupla.append(40)     # ❌ Error: no tiene método append\n",
        "# tupla.pop()          # ❌ Error: no tiene método pop"
      ],
      "metadata": {
        "id": "u3Eub2ZL8pp3"
      },
      "execution_count": 29,
      "outputs": []
    },
    {
      "cell_type": "markdown",
      "source": [
        "#### [`remove()`](https://docs.python.org/3/tutorial/datastructures.html#:~:text=append(x).-,list.remove(x),-Remove%20the%20first)\n",
        "\n",
        "Remueve un elemento específico de la lista."
      ],
      "metadata": {
        "id": "dPGM5gpyUX1z"
      }
    },
    {
      "cell_type": "code",
      "source": [
        "lista = [1,2,3,2,8,5]\n",
        "lista.remove(2)  # elimina aquel primer elemento que sea igual al que queremos remover\n",
        "print(lista)  # [1, 3, 2, 8, 5]"
      ],
      "metadata": {
        "id": "mmboODPc8nd5",
        "colab": {
          "base_uri": "https://localhost:8080/"
        },
        "outputId": "c4878253-0f94-4179-9c6c-92294155c8b4"
      },
      "execution_count": 24,
      "outputs": [
        {
          "output_type": "stream",
          "name": "stdout",
          "text": [
            "[1, 3, 2, 8, 5]\n"
          ]
        }
      ]
    },
    {
      "cell_type": "markdown",
      "source": [
        "#### [`pop()`](https://www.w3schools.com/python/ref_list_pop.asp#:~:text=append(x).-,list.remove(x),-Remove%20the%20first)\n",
        "\n",
        "Elimina y retorna elemento (último si no das índice)."
      ],
      "metadata": {
        "id": "qDNdqP_EmT0I"
      }
    },
    {
      "cell_type": "code",
      "source": [
        "lista = [1, 2, 3]\n",
        "x = lista.pop()    # si no designamos su indice el elimina el último\n",
        "print(x)           # 3\n",
        "print(lista)       # [1, 2]\n"
      ],
      "metadata": {
        "id": "T_w6vVgV8nh_",
        "colab": {
          "base_uri": "https://localhost:8080/"
        },
        "outputId": "0f17b6ae-9e55-4731-f39c-a5e76528f35d"
      },
      "execution_count": 35,
      "outputs": [
        {
          "output_type": "stream",
          "name": "stdout",
          "text": [
            "3\n",
            "[1, 2]\n"
          ]
        }
      ]
    },
    {
      "cell_type": "markdown",
      "source": [
        "#### [`clear()`](https://www.w3schools.com/python/ref_list_clear.asp#:~:text=append(x).-,list.remove(x),-Remove%20the%20first)\n",
        "\n",
        "Elimina todos los elementos"
      ],
      "metadata": {
        "id": "ORJXuuJBm75o"
      }
    },
    {
      "cell_type": "code",
      "source": [
        "lista = [1, 2, 3]\n",
        "lista.clear()\n",
        "print(lista)  # []"
      ],
      "metadata": {
        "colab": {
          "base_uri": "https://localhost:8080/"
        },
        "id": "RaiXofBHnCEu",
        "outputId": "7433c42a-ce56-49b7-a7f1-7fa31f4b7997"
      },
      "execution_count": 31,
      "outputs": [
        {
          "output_type": "stream",
          "name": "stdout",
          "text": [
            "[]\n"
          ]
        }
      ]
    },
    {
      "cell_type": "markdown",
      "source": [
        "#### [`short()`](https://docs.python.org/es/3/howto/sorting.html#:~:text=append(x).-,list.remove(x),-Remove%20the%20first)\n",
        "\n",
        "Ordena la lista (modifica la original)"
      ],
      "metadata": {
        "id": "sfZgdy94ov9m"
      }
    },
    {
      "cell_type": "code",
      "source": [
        "#sort() - Ordena la lista (modifica la original)\n",
        "\n",
        "lista = [3, 1, 4, 2]\n",
        "lista.sort()\n",
        "print(lista)  # [1, 2, 3, 4]\n",
        "\n",
        "# Orden descendente\n",
        "lista.sort(reverse=True)\n",
        "print(lista)  # [4, 3, 2, 1]"
      ],
      "metadata": {
        "colab": {
          "base_uri": "https://localhost:8080/"
        },
        "id": "mnVOPPupodfu",
        "outputId": "0f95e527-7c11-4c15-9f07-0dd42220aa7f"
      },
      "execution_count": 39,
      "outputs": [
        {
          "output_type": "stream",
          "name": "stdout",
          "text": [
            "[1, 2, 3, 4]\n",
            "[4, 3, 2, 1]\n"
          ]
        }
      ]
    },
    {
      "cell_type": "markdown",
      "source": [
        "#### [`reverse()`](https://www.w3schools.com/python/ref_list_reverse.asp#:~:text=append(x).-,list.remove(x),-Remove%20the%20first)\n",
        "\n",
        "Invierte el orden de la lista"
      ],
      "metadata": {
        "id": "WcuOiWCkqDJ3"
      }
    },
    {
      "cell_type": "code",
      "source": [
        "#reverse() - Invierte el orden de la lista\n",
        "lista = [1, 2, 3, 4]\n",
        "lista.reverse()\n",
        "print(lista)  # [4, 3, 2, 1]"
      ],
      "metadata": {
        "colab": {
          "base_uri": "https://localhost:8080/"
        },
        "id": "LUsKe2NPoo5n",
        "outputId": "5ce9a348-031b-40a5-91f8-29eab3755ab9"
      },
      "execution_count": 41,
      "outputs": [
        {
          "output_type": "stream",
          "name": "stdout",
          "text": [
            "[4, 3, 2, 1]\n"
          ]
        }
      ]
    },
    {
      "cell_type": "markdown",
      "source": [
        "#### [`Index()`](https://www.w3schools.com/python/ref_list_index.asp#:~:text=append(x).-,list.remove(x),-Remove%20the%20first)\n",
        "\n",
        "Retorna el índice de la primera aparición"
      ],
      "metadata": {
        "id": "3pxNQDccpx13"
      }
    },
    {
      "cell_type": "code",
      "source": [
        "#index(elemento) - Retorna el índice de la primera aparición\n",
        "lista = [10, 20, 30, 20]\n",
        "pos = lista.index(20)\n",
        "print(pos)  # 1"
      ],
      "metadata": {
        "colab": {
          "base_uri": "https://localhost:8080/"
        },
        "id": "coFa1tx9pcWn",
        "outputId": "0433b68f-abec-4dd3-dba3-43b01b0253ef"
      },
      "execution_count": 42,
      "outputs": [
        {
          "output_type": "stream",
          "name": "stdout",
          "text": [
            "1\n"
          ]
        }
      ]
    },
    {
      "cell_type": "markdown",
      "source": [
        "#### [`count()`](hhttps://www.w3schools.com/python/ref_list_count.asp#:~:text=append(x).-,list.remove(x),-Remove%20the%20first)\n",
        "\n",
        "Cuenta cuántas veces aparece el elemento"
      ],
      "metadata": {
        "id": "rjtc_VffqZnM"
      }
    },
    {
      "cell_type": "code",
      "source": [
        "#Como para números valores sin ''\n",
        "lista = [1, 2, 2, 3, 2,2]\n",
        "cantidad = lista.count(2)\n",
        "print(cantidad)  # 4\n",
        "\n",
        "#Como para letras indicando '' que son cadenas string\n",
        "Lista2 = ['a', 'b', 'c', 'd', 'e','e','b','b']\n",
        "CantidadLista2 = Lista2.count('b')\n",
        "print(CantidadLista2) # 3"
      ],
      "metadata": {
        "colab": {
          "base_uri": "https://localhost:8080/"
        },
        "id": "PNSkxoJTqaTu",
        "outputId": "db0a5b2d-9d5e-45b6-c1e2-dc435fcacafa"
      },
      "execution_count": 50,
      "outputs": [
        {
          "output_type": "stream",
          "name": "stdout",
          "text": [
            "4\n",
            "3\n"
          ]
        }
      ]
    },
    {
      "cell_type": "code",
      "source": [
        "# Resumen rápido:\n",
        "# Agregar elementos:\n",
        "\n",
        "# append() - uno al final\n",
        "# extend() - varios al final\n",
        "# insert() - en posición específica\n",
        "\n",
        "# Eliminar elementos:\n",
        "\n",
        "# remove() - por valor\n",
        "# pop() - por índice (retorna el valor)\n",
        "# clear() - todos\n",
        "\n",
        "# Buscar/contar:\n",
        "\n",
        "# index() - encontrar posición\n",
        "# count() - contar apariciones\n",
        "\n",
        "# Ordenar/invertir:\n",
        "\n",
        "# sort() - ordenar\n",
        "# reverse() - invertir\n",
        "\n",
        "# Copiar:\n",
        "\n",
        "# copy() - clonar la lista"
      ],
      "metadata": {
        "id": "jgbG8yDdrKTm"
      },
      "execution_count": 48,
      "outputs": []
    },
    {
      "cell_type": "markdown",
      "source": [
        "## Diccionario"
      ],
      "metadata": {
        "id": "Rc22Vc08YDZ2"
      }
    },
    {
      "cell_type": "markdown",
      "source": [
        "Los diccionarios son un tipo de estructura de datos que almacenan pares de *llave-valor*. Estos son delimitados por llaves `{}` y los pares *llave-valor* son separados por comas.\n",
        "\n",
        "```\n",
        "diccionario = {llave: valor}\n",
        "```\n",
        "\n",
        "La **llave** es un elemento único que identifica a un valor en el diccionario, mientras que el **valor** es el item que será almacenado para la llave. Las llaves y sus respectivos valores se pueden emplear para **cualquier tipo de dato**.\n",
        "\n",
        "Los diccionarios son útiles para almacenar y acceder a los datos de manera organizada y rápida. Se trata de un tipo de conjunto de elementos en Python, pues almacenan una colección de items."
      ],
      "metadata": {
        "id": "PJ-cCKPjeWxL"
      }
    },
    {
      "cell_type": "code",
      "source": [
        "diccionario"
      ],
      "metadata": {
        "id": "NDHhzooE8ld5"
      },
      "execution_count": null,
      "outputs": []
    },
    {
      "cell_type": "code",
      "source": [],
      "metadata": {
        "id": "AVOzqzy-8lhh"
      },
      "execution_count": null,
      "outputs": []
    },
    {
      "cell_type": "markdown",
      "source": [
        "---\n",
        "**Situación:**\n",
        "\n",
        "Vamos a crear un conjunto de datos con las informaciones de matrícula de un estudiante. Los datos son los siguientes:\n",
        "\n",
        "- matrícula: 2000168933\n",
        "- día de registro: 25\n",
        "- mes de registro: 10\n",
        "- grupo: 2E"
      ],
      "metadata": {
        "id": "_JbQ3KMKfkXU"
      }
    },
    {
      "cell_type": "code",
      "source": [],
      "metadata": {
        "id": "0lfOu_c38jED"
      },
      "execution_count": null,
      "outputs": []
    },
    {
      "cell_type": "code",
      "source": [],
      "metadata": {
        "id": "XIuqpTTy8jHV"
      },
      "execution_count": null,
      "outputs": []
    },
    {
      "cell_type": "markdown",
      "source": [
        "Es posible sustituir los valores dentro de una llave. Por ejemplo, recibimos la información de que el grupo del estudiante que registramos cambio a `'2G'` y ahora necesitamos cambiar el valor de la llave `'grupo'`."
      ],
      "metadata": {
        "id": "8ex5pt2ykDd2"
      }
    },
    {
      "cell_type": "code",
      "source": [],
      "metadata": {
        "id": "kQGlp36b8fyP"
      },
      "execution_count": null,
      "outputs": []
    },
    {
      "cell_type": "code",
      "source": [],
      "metadata": {
        "id": "DnfH_qHi8f17"
      },
      "execution_count": null,
      "outputs": []
    },
    {
      "cell_type": "markdown",
      "source": [
        "También podemos añadir otros datos al diccionario. Vamos a añadir la información sobre la modalidad de estudio, nuestro estudiante estudiará inicialemente en la modalidad EAD.\n",
        "\n",
        "Definiremos una llave llamada `'modalidad'` con el valor `'EAD'`."
      ],
      "metadata": {
        "id": "wB0qRb56mQvv"
      }
    },
    {
      "cell_type": "code",
      "source": [],
      "metadata": {
        "id": "EeLYdlIm8d8a"
      },
      "execution_count": null,
      "outputs": []
    },
    {
      "cell_type": "code",
      "source": [],
      "metadata": {
        "id": "olDIavsm8d_o"
      },
      "execution_count": null,
      "outputs": []
    },
    {
      "cell_type": "markdown",
      "source": [
        "## Profundizando en diccionarios"
      ],
      "metadata": {
        "id": "LJ3o_inroxg_"
      }
    },
    {
      "cell_type": "markdown",
      "source": [
        "#### [`pop()`](https://python-reference.readthedocs.io/en/latest/docs/dict/pop.html)\n",
        "Remueve un item de un diccionario y lo representa en la salida."
      ],
      "metadata": {
        "id": "2N3GLlkSpBiu"
      }
    },
    {
      "cell_type": "code",
      "source": [
        "# Ejemplo 2: pop(índice) - elimina en posición específica\n",
        "numeros = [10, 20, 30, 40]\n",
        "elemento = numeros.pop(1)  # elimina el elemento en índice 1\n",
        "print(elemento)  # 20\n",
        "print(numeros)   # [10, 30, 40]\n"
      ],
      "metadata": {
        "id": "ZsSCZx6G8b-T",
        "colab": {
          "base_uri": "https://localhost:8080/"
        },
        "outputId": "032d13ee-b88d-4653-d8e8-c55dc1dc976b"
      },
      "execution_count": 36,
      "outputs": [
        {
          "output_type": "stream",
          "name": "stdout",
          "text": [
            "20\n",
            "[10, 30, 40]\n"
          ]
        }
      ]
    },
    {
      "cell_type": "code",
      "source": [
        "# Ejemplo 3: pop(0) - elimina el primero\n",
        "colores = ['rojo', 'verde', 'azul']\n",
        "primero = colores.pop(0)\n",
        "print(primero)  # 'rojo'\n",
        "print(colores)  # ['verde', 'azul']"
      ],
      "metadata": {
        "id": "7lQ8_jpi8cBR",
        "colab": {
          "base_uri": "https://localhost:8080/"
        },
        "outputId": "e61b66e6-2f9d-4526-adfb-85e7956f4247"
      },
      "execution_count": 37,
      "outputs": [
        {
          "output_type": "stream",
          "name": "stdout",
          "text": [
            "rojo\n",
            "['verde', 'azul']\n"
          ]
        }
      ]
    },
    {
      "cell_type": "markdown",
      "source": [
        "#### [`items()`](https://python-reference.readthedocs.io/en/latest/docs/dict/items.html)\n",
        "Retorna una lista de pares `llave-valor` del diccionario."
      ],
      "metadata": {
        "id": "sYZGvJJYrW_y"
      }
    },
    {
      "cell_type": "code",
      "source": [],
      "metadata": {
        "id": "ncdycLV08an7"
      },
      "execution_count": null,
      "outputs": []
    },
    {
      "cell_type": "markdown",
      "source": [
        "#### [`keys()`](https://python-reference.readthedocs.io/en/latest/docs/dict/keys.html)\n",
        "Retorna una lista de las llaves del diccionario."
      ],
      "metadata": {
        "id": "Lb0utNFGrZBY"
      }
    },
    {
      "cell_type": "code",
      "source": [],
      "metadata": {
        "id": "eZo0biaM8ZVs"
      },
      "execution_count": null,
      "outputs": []
    },
    {
      "cell_type": "markdown",
      "source": [
        "#### [`values()`](https://python-reference.readthedocs.io/en/latest/docs/dict/values.html)\n",
        "Retorna una lista de los valores del diccionario."
      ],
      "metadata": {
        "id": "qKyu3bf9rbtX"
      }
    },
    {
      "cell_type": "code",
      "source": [],
      "metadata": {
        "id": "-NxRT9C18Yvo"
      },
      "execution_count": null,
      "outputs": []
    },
    {
      "cell_type": "markdown",
      "source": [
        "### Lectura de valores con el lazo `for`"
      ],
      "metadata": {
        "id": "e3XVjR8Frp75"
      }
    },
    {
      "cell_type": "code",
      "source": [],
      "metadata": {
        "id": "NYcjU-Ip8Xan"
      },
      "execution_count": null,
      "outputs": []
    },
    {
      "cell_type": "code",
      "source": [],
      "metadata": {
        "id": "aAnpP1Wv8XfJ"
      },
      "execution_count": null,
      "outputs": []
    }
  ]
}